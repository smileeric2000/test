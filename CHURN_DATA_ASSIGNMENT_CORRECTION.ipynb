{
 "cells": [
  {
   "cell_type": "code",
   "execution_count": 1,
   "id": "3a7fbcd0-afaa-41c0-8cd6-2356a8137838",
   "metadata": {},
   "outputs": [],
   "source": [
    "import pandas as pd \n",
    "df = pd.read_csv('Churn_Modelling (1).csv')\n",
    "pd.options.display.max_rows = 10005\n",
    "# df.head(10)"
   ]
  },
  {
   "cell_type": "code",
   "execution_count": 2,
   "id": "dd467b9a-2615-4504-a8a1-e1591325446e",
   "metadata": {},
   "outputs": [
    {
     "name": "stdout",
     "output_type": "stream",
     "text": [
      "<class 'pandas.core.frame.DataFrame'>\n",
      "RangeIndex: 10000 entries, 0 to 9999\n",
      "Data columns (total 14 columns):\n",
      " #   Column           Non-Null Count  Dtype  \n",
      "---  ------           --------------  -----  \n",
      " 0   RowNumber        10000 non-null  int64  \n",
      " 1   CustomerId       10000 non-null  int64  \n",
      " 2   Surname          10000 non-null  object \n",
      " 3   CreditScore      10000 non-null  int64  \n",
      " 4   Geography        10000 non-null  object \n",
      " 5   Gender           10000 non-null  object \n",
      " 6   Age              10000 non-null  int64  \n",
      " 7   Tenure           10000 non-null  int64  \n",
      " 8   Balance          10000 non-null  float64\n",
      " 9   NumOfProducts    10000 non-null  int64  \n",
      " 10  HasCrCard        10000 non-null  int64  \n",
      " 11  IsActiveMember   10000 non-null  int64  \n",
      " 12  EstimatedSalary  10000 non-null  float64\n",
      " 13  Exited           10000 non-null  int64  \n",
      "dtypes: float64(2), int64(9), object(3)\n",
      "memory usage: 1.1+ MB\n"
     ]
    }
   ],
   "source": [
    "df.drop_duplicates(['Surname', 'CustomerId'])\n",
    "df.info()                  #This is to drop duplicate files by ID(if any). lucky for us there's none"
   ]
  },
  {
   "cell_type": "code",
   "execution_count": 3,
   "id": "7995066f-6aea-4f7f-b535-79a738ef3782",
   "metadata": {},
   "outputs": [],
   "source": [
    "df[\"Surname\"]=df[\"Surname\"].replace(\"[^a-zA-Z]\",\"\",regex=True)\n",
    "df[\"CustomerId\"]=df[\"CustomerId\"].replace(\"[^0-9]\",\"\",regex=True)   #cleaning all unwanted characters"
   ]
  },
  {
   "cell_type": "code",
   "execution_count": 4,
   "id": "978143e1-ce78-472b-9b45-5d55d3fdb9da",
   "metadata": {},
   "outputs": [
    {
     "data": {
      "text/html": [
       "<div>\n",
       "<style scoped>\n",
       "    .dataframe tbody tr th:only-of-type {\n",
       "        vertical-align: middle;\n",
       "    }\n",
       "\n",
       "    .dataframe tbody tr th {\n",
       "        vertical-align: top;\n",
       "    }\n",
       "\n",
       "    .dataframe thead th {\n",
       "        text-align: right;\n",
       "    }\n",
       "</style>\n",
       "<table border=\"1\" class=\"dataframe\">\n",
       "  <thead>\n",
       "    <tr style=\"text-align: right;\">\n",
       "      <th></th>\n",
       "      <th>RowNumber</th>\n",
       "      <th>CustomerId</th>\n",
       "      <th>Surname</th>\n",
       "      <th>CreditScore</th>\n",
       "      <th>Geography</th>\n",
       "      <th>Gender</th>\n",
       "      <th>Age</th>\n",
       "      <th>Tenure</th>\n",
       "      <th>Balance</th>\n",
       "      <th>NumOfProducts</th>\n",
       "      <th>HasCrCard</th>\n",
       "      <th>IsActiveMember</th>\n",
       "      <th>EstimatedSalary</th>\n",
       "      <th>Exited</th>\n",
       "    </tr>\n",
       "  </thead>\n",
       "  <tbody>\n",
       "    <tr>\n",
       "      <th>0</th>\n",
       "      <td>1</td>\n",
       "      <td>15634602</td>\n",
       "      <td>Hargrave</td>\n",
       "      <td>619</td>\n",
       "      <td>France</td>\n",
       "      <td>Female</td>\n",
       "      <td>42</td>\n",
       "      <td>2</td>\n",
       "      <td>0.00</td>\n",
       "      <td>1</td>\n",
       "      <td>1</td>\n",
       "      <td>1</td>\n",
       "      <td>101348.88</td>\n",
       "      <td>1</td>\n",
       "    </tr>\n",
       "    <tr>\n",
       "      <th>1</th>\n",
       "      <td>2</td>\n",
       "      <td>15647311</td>\n",
       "      <td>Hill</td>\n",
       "      <td>608</td>\n",
       "      <td>Spain</td>\n",
       "      <td>Female</td>\n",
       "      <td>41</td>\n",
       "      <td>1</td>\n",
       "      <td>83807.86</td>\n",
       "      <td>1</td>\n",
       "      <td>0</td>\n",
       "      <td>1</td>\n",
       "      <td>112542.58</td>\n",
       "      <td>0</td>\n",
       "    </tr>\n",
       "    <tr>\n",
       "      <th>2</th>\n",
       "      <td>3</td>\n",
       "      <td>15619304</td>\n",
       "      <td>Onio</td>\n",
       "      <td>502</td>\n",
       "      <td>France</td>\n",
       "      <td>Female</td>\n",
       "      <td>42</td>\n",
       "      <td>8</td>\n",
       "      <td>159660.80</td>\n",
       "      <td>3</td>\n",
       "      <td>1</td>\n",
       "      <td>0</td>\n",
       "      <td>113931.57</td>\n",
       "      <td>1</td>\n",
       "    </tr>\n",
       "    <tr>\n",
       "      <th>3</th>\n",
       "      <td>4</td>\n",
       "      <td>15701354</td>\n",
       "      <td>Boni</td>\n",
       "      <td>699</td>\n",
       "      <td>France</td>\n",
       "      <td>Female</td>\n",
       "      <td>39</td>\n",
       "      <td>1</td>\n",
       "      <td>0.00</td>\n",
       "      <td>2</td>\n",
       "      <td>0</td>\n",
       "      <td>0</td>\n",
       "      <td>93826.63</td>\n",
       "      <td>0</td>\n",
       "    </tr>\n",
       "    <tr>\n",
       "      <th>4</th>\n",
       "      <td>5</td>\n",
       "      <td>15737888</td>\n",
       "      <td>Mitchell</td>\n",
       "      <td>850</td>\n",
       "      <td>Spain</td>\n",
       "      <td>Female</td>\n",
       "      <td>43</td>\n",
       "      <td>2</td>\n",
       "      <td>125510.82</td>\n",
       "      <td>1</td>\n",
       "      <td>1</td>\n",
       "      <td>1</td>\n",
       "      <td>79084.10</td>\n",
       "      <td>0</td>\n",
       "    </tr>\n",
       "    <tr>\n",
       "      <th>5</th>\n",
       "      <td>6</td>\n",
       "      <td>15574012</td>\n",
       "      <td>Chu</td>\n",
       "      <td>645</td>\n",
       "      <td>Spain</td>\n",
       "      <td>Male</td>\n",
       "      <td>44</td>\n",
       "      <td>8</td>\n",
       "      <td>113755.78</td>\n",
       "      <td>2</td>\n",
       "      <td>1</td>\n",
       "      <td>0</td>\n",
       "      <td>149756.71</td>\n",
       "      <td>1</td>\n",
       "    </tr>\n",
       "    <tr>\n",
       "      <th>6</th>\n",
       "      <td>7</td>\n",
       "      <td>15592531</td>\n",
       "      <td>Bartlett</td>\n",
       "      <td>822</td>\n",
       "      <td>France</td>\n",
       "      <td>Male</td>\n",
       "      <td>50</td>\n",
       "      <td>7</td>\n",
       "      <td>0.00</td>\n",
       "      <td>2</td>\n",
       "      <td>1</td>\n",
       "      <td>1</td>\n",
       "      <td>10062.80</td>\n",
       "      <td>0</td>\n",
       "    </tr>\n",
       "    <tr>\n",
       "      <th>7</th>\n",
       "      <td>8</td>\n",
       "      <td>15656148</td>\n",
       "      <td>Obinna</td>\n",
       "      <td>376</td>\n",
       "      <td>Germany</td>\n",
       "      <td>Female</td>\n",
       "      <td>29</td>\n",
       "      <td>4</td>\n",
       "      <td>115046.74</td>\n",
       "      <td>4</td>\n",
       "      <td>1</td>\n",
       "      <td>0</td>\n",
       "      <td>119346.88</td>\n",
       "      <td>1</td>\n",
       "    </tr>\n",
       "    <tr>\n",
       "      <th>8</th>\n",
       "      <td>9</td>\n",
       "      <td>15792365</td>\n",
       "      <td>He</td>\n",
       "      <td>501</td>\n",
       "      <td>France</td>\n",
       "      <td>Male</td>\n",
       "      <td>44</td>\n",
       "      <td>4</td>\n",
       "      <td>142051.07</td>\n",
       "      <td>2</td>\n",
       "      <td>0</td>\n",
       "      <td>1</td>\n",
       "      <td>74940.50</td>\n",
       "      <td>0</td>\n",
       "    </tr>\n",
       "    <tr>\n",
       "      <th>9</th>\n",
       "      <td>10</td>\n",
       "      <td>15592389</td>\n",
       "      <td>H</td>\n",
       "      <td>684</td>\n",
       "      <td>France</td>\n",
       "      <td>Male</td>\n",
       "      <td>27</td>\n",
       "      <td>2</td>\n",
       "      <td>134603.88</td>\n",
       "      <td>1</td>\n",
       "      <td>1</td>\n",
       "      <td>1</td>\n",
       "      <td>71725.73</td>\n",
       "      <td>0</td>\n",
       "    </tr>\n",
       "  </tbody>\n",
       "</table>\n",
       "</div>"
      ],
      "text/plain": [
       "   RowNumber  CustomerId   Surname  CreditScore Geography  Gender  Age  \\\n",
       "0          1    15634602  Hargrave          619    France  Female   42   \n",
       "1          2    15647311      Hill          608     Spain  Female   41   \n",
       "2          3    15619304      Onio          502    France  Female   42   \n",
       "3          4    15701354      Boni          699    France  Female   39   \n",
       "4          5    15737888  Mitchell          850     Spain  Female   43   \n",
       "5          6    15574012       Chu          645     Spain    Male   44   \n",
       "6          7    15592531  Bartlett          822    France    Male   50   \n",
       "7          8    15656148    Obinna          376   Germany  Female   29   \n",
       "8          9    15792365        He          501    France    Male   44   \n",
       "9         10    15592389         H          684    France    Male   27   \n",
       "\n",
       "   Tenure    Balance  NumOfProducts  HasCrCard  IsActiveMember  \\\n",
       "0       2       0.00              1          1               1   \n",
       "1       1   83807.86              1          0               1   \n",
       "2       8  159660.80              3          1               0   \n",
       "3       1       0.00              2          0               0   \n",
       "4       2  125510.82              1          1               1   \n",
       "5       8  113755.78              2          1               0   \n",
       "6       7       0.00              2          1               1   \n",
       "7       4  115046.74              4          1               0   \n",
       "8       4  142051.07              2          0               1   \n",
       "9       2  134603.88              1          1               1   \n",
       "\n",
       "   EstimatedSalary  Exited  \n",
       "0        101348.88       1  \n",
       "1        112542.58       0  \n",
       "2        113931.57       1  \n",
       "3         93826.63       0  \n",
       "4         79084.10       0  \n",
       "5        149756.71       1  \n",
       "6         10062.80       0  \n",
       "7        119346.88       1  \n",
       "8         74940.50       0  \n",
       "9         71725.73       0  "
      ]
     },
     "execution_count": 4,
     "metadata": {},
     "output_type": "execute_result"
    }
   ],
   "source": [
    "df.head(10)"
   ]
  },
  {
   "cell_type": "code",
   "execution_count": 287,
   "id": "dec7eb70-c71b-4d2f-86dc-dd209570f4ed",
   "metadata": {},
   "outputs": [
    {
     "name": "stdout",
     "output_type": "stream",
     "text": [
      "EXITED MEMBERS\n"
     ]
    },
    {
     "data": {
      "text/plain": [
       "RowNumber          2037\n",
       "CustomerId         2037\n",
       "Surname            2037\n",
       "CreditScore        2037\n",
       "Geography          2037\n",
       "Gender             2037\n",
       "Age                2037\n",
       "Tenure             2037\n",
       "Balance            2037\n",
       "NumOfProducts      2037\n",
       "HasCrCard          2037\n",
       "IsActiveMember     2037\n",
       "EstimatedSalary    2037\n",
       "Exited             2037\n",
       "dtype: int64"
      ]
     },
     "execution_count": 287,
     "metadata": {},
     "output_type": "execute_result"
    }
   ],
   "source": [
    "exited_mem = df[df['Exited']==1]\n",
    "print(\"EXITED MEMBERS\")\n",
    "exited_mem.count()                  #here we check for the count of exited members = 2037"
   ]
  },
  {
   "cell_type": "code",
   "execution_count": 319,
   "id": "e5796bbb-ab6c-47d3-b93d-328e6d8e153a",
   "metadata": {},
   "outputs": [
    {
     "name": "stdout",
     "output_type": "stream",
     "text": [
      "ACTIVE MEMBERS\n"
     ]
    },
    {
     "data": {
      "text/plain": [
       "RowNumber          7963\n",
       "CustomerId         7963\n",
       "Surname            7963\n",
       "CreditScore        7963\n",
       "Geography          7963\n",
       "Gender             7963\n",
       "Age                7963\n",
       "Tenure             7963\n",
       "Balance            7963\n",
       "NumOfProducts      7963\n",
       "HasCrCard          7963\n",
       "IsActiveMember     7963\n",
       "EstimatedSalary    7963\n",
       "Exited             7963\n",
       "dtype: int64"
      ]
     },
     "execution_count": 319,
     "metadata": {},
     "output_type": "execute_result"
    }
   ],
   "source": [
    "active_mem =  df[df['Exited']==0]\n",
    "print(\"ACTIVE MEMBERS\")\n",
    "active_mem.count()          #here we check for the count of active members = 7963\n",
    "                            #so the company has 10,000 members and 7963 are active while 2037 are not.                 "
   ]
  },
  {
   "cell_type": "code",
   "execution_count": null,
   "id": "122d083d-696a-445d-ad4a-61120654d41e",
   "metadata": {},
   "outputs": [],
   "source": []
  },
  {
   "cell_type": "code",
   "execution_count": 173,
   "id": "9ab79c03-89e9-46c9-abeb-0de092446fd5",
   "metadata": {},
   "outputs": [
    {
     "data": {
      "text/plain": [
       "([<matplotlib.axis.XTick at 0x1c282b097d0>,\n",
       "  <matplotlib.axis.XTick at 0x1c282aef750>],\n",
       " [Text(0, 0, 'Active 7963'), Text(1, 0, 'Inactive 2037')])"
      ]
     },
     "execution_count": 173,
     "metadata": {},
     "output_type": "execute_result"
    },
    {
     "data": {
      "image/png": "[encoded data removed]",
      "text/plain": [
       "<Figure size 640x480 with 1 Axes>"
      ]
     },
     "metadata": {},
     "output_type": "display_data"
    }
   ],
   "source": [
    "import matplotlib.pyplot as plt\n",
    "import numpy as np\n",
    "import seaborn as sns\n",
    "\n",
    "members = df['Exited'].value_counts()\n",
    "\n",
    "plt.bar(members.index, members.values, color=['green', 'red'])\n",
    "plt.ylabel('Count')\n",
    "plt.title('Count of Active and Inactive Members')\n",
    "plt.xticks([0, 1], ['Active 7963', 'Inactive 2037'])  #we vaisualize the number of active members to inactive members\n"
   ]
  },
  {
   "cell_type": "code",
   "execution_count": null,
   "id": "8c87afe6-64a3-43d7-9458-94b67a6ee122",
   "metadata": {},
   "outputs": [],
   "source": []
  },
  {
   "cell_type": "code",
   "execution_count": 291,
   "id": "41b304b5-d040-43b7-b5c0-62b0afe057b5",
   "metadata": {},
   "outputs": [
    {
     "data": {
      "text/plain": [
       "RowNumber          3117\n",
       "CustomerId         3117\n",
       "Surname            3117\n",
       "CreditScore        3117\n",
       "Geography          3117\n",
       "Gender             3117\n",
       "Age                3117\n",
       "Tenure             3117\n",
       "Balance            3117\n",
       "NumOfProducts      3117\n",
       "HasCrCard          3117\n",
       "IsActiveMember     3117\n",
       "EstimatedSalary    3117\n",
       "Exited             3117\n",
       "dtype: int64"
      ]
     },
     "execution_count": 291,
     "metadata": {},
     "output_type": "execute_result"
    }
   ],
   "source": [
    " #so the company has 10,000 members and 7963 are active while 2037 are not.\n",
    "df[df['Balance']==0.00].count()  #Here we check for number of members who has an empty account = 3617\n",
    "# active_mem.head(20)     #using code \"active_mem[active_mem['Balance']==0.00].count()\", we check for \n",
    "active_mem[active_mem['Balance']==0.00].count()  #active members whose accounts are empty and that equals 3117. so out of 7963 active members \n",
    "                                                #3117 have no money in their account. that is about 39.14% of the active members\n",
    "                                                #Also using code (exited_mem[exited_mem['Balance']==0.00].count()), we check for exited members\n",
    "                                                #with no money in their account = 500. so out of 2037 exited members, 500 have no monery in account\n",
    "                                                # that's about 24.55%.\n",
    "active_mem[active_mem['Balance']==0.00].count()"
   ]
  },
  {
   "cell_type": "code",
   "execution_count": 178,
   "id": "107277de-816a-41d6-b4cc-246ea4aa2d86",
   "metadata": {},
   "outputs": [
    {
     "data": {
      "image/png": "[encoded data removed]",
      "text/plain": [
       "<Figure size 640x480 with 1 Axes>"
      ]
     },
     "metadata": {},
     "output_type": "display_data"
    }
   ],
   "source": [
    "import matplotlib.pyplot as plt\n",
    "\n",
    "# Assuming exited_mem and active_mem are pandas DataFrames\n",
    "\n",
    "# Count members with balance 0.00\n",
    "exited_with_empty_count = exited_mem[exited_mem['Balance'] == 0.00].shape[0]\n",
    "active_with_empty_count = active_mem[active_mem['Balance'] == 0.00].shape[0]\n",
    "\n",
    "# Data for plotting\n",
    "categories = ['Exited ($0)', 'Active ($0)']\n",
    "counts = [exited_with_empty_count, active_with_empty_count]\n",
    "\n",
    "# Create bar chart\n",
    "plt.bar(categories, counts, color=['red', 'green'])\n",
    "plt.ylabel('Count')\n",
    "plt.title('Active and Exited Members with Empty Accounts')\n",
    "\n",
    "# Display the plot\n",
    "plt.show()\n"
   ]
  },
  {
   "cell_type": "markdown",
   "id": "164e204e-2b38-46be-9de2-a772b961c62c",
   "metadata": {},
   "source": [
    "#### Therefore comparing the percentage of active members with no money in their account to the percentage of exited members with no money in their account, we'd discover that there are actually more of bankrupt active members than broke exited members, thus we deduct that bankrupcy is not the reason they left\n"
   ]
  },
  {
   "cell_type": "code",
   "execution_count": null,
   "id": "ea348e58-f2d4-4a02-85ca-3a23ea8bee2c",
   "metadata": {},
   "outputs": [],
   "source": []
  },
  {
   "cell_type": "code",
   "execution_count": null,
   "id": "329a2258-b521-4f1f-ad69-f1e6ce4360e2",
   "metadata": {},
   "outputs": [],
   "source": []
  },
  {
   "cell_type": "markdown",
   "id": "eaad1f9b-9269-4ec9-92a1-f359438ffe95",
   "metadata": {},
   "source": [
    "##    ANALYSIS OF EXITED MEMBERS WITH REGARD TO GEOGRAPHY"
   ]
  },
  {
   "cell_type": "code",
   "execution_count": 50,
   "id": "b04483ec-88b3-4ed1-8ac4-327be8ce63b4",
   "metadata": {},
   "outputs": [],
   "source": [
    "# df[df['Geography']=='France'].count()    #here we check for total number of members who are from France = 5014\n",
    "# exited_mem[exited_mem['Geography']=='France'].count()  #we also check the number of France customers who exited=810\n",
    "                                            #that is to say that 16.16% of France members exited.\n",
    "                                            #also we should note that 50% of the company's customers are from France\n",
    "franc = df[df['Geography']=='France']\n"
   ]
  },
  {
   "cell_type": "code",
   "execution_count": null,
   "id": "100a4043-4f08-4d80-8866-685f641261f2",
   "metadata": {},
   "outputs": [],
   "source": []
  },
  {
   "cell_type": "code",
   "execution_count": 75,
   "id": "63133b69-ee49-4f72-ab5d-69ff3e802e16",
   "metadata": {},
   "outputs": [],
   "source": [
    "# df[df['Geography']=='Germany'].count()    #here we check for total number of members who are from Germany = 2509\n",
    "# exited_mem[exited_mem['Geography']=='Germany'].count()  #we also check the number of Germany customers who exited=814\n",
    "                                            #that is to say that 32.44% of German members exited.\n",
    "                                            #also we should note that 25% of the company's customers are from Germany\n",
    "german = df[df['Geography']=='Germany']\n"
   ]
  },
  {
   "cell_type": "code",
   "execution_count": null,
   "id": "89d3b6c0-1051-46ac-8f3a-1a3c0fb10b70",
   "metadata": {},
   "outputs": [],
   "source": []
  },
  {
   "cell_type": "code",
   "execution_count": 77,
   "id": "e109bc42-d74d-4471-b5f2-a28475209879",
   "metadata": {},
   "outputs": [],
   "source": [
    "df[df['Geography']=='Spain'].count()    #here we check for total number of members who are from Spain = 2477\n",
    "exited_mem[exited_mem['Geography']=='Spain'].count()  #we also check the number of Spain customers who exited=413\n",
    "                                            #that is to say that 16.67% of Spain members exited.\n",
    "                                            #also we should note that about 25% of the company's customers are from Spain\n",
    "spain = df[df['Geography']=='Spain']\n",
    "# spain.count()"
   ]
  },
  {
   "cell_type": "code",
   "execution_count": null,
   "id": "6e2dbbe2-071e-4ee0-bfbd-3c4d5b0b5046",
   "metadata": {},
   "outputs": [],
   "source": []
  },
  {
   "cell_type": "code",
   "execution_count": 295,
   "id": "5c2fbbc8-535c-4c40-81ac-854969dbca94",
   "metadata": {},
   "outputs": [
    {
     "data": {
      "image/png": "[encoded data removed]",
      "text/plain": [
       "<Figure size 800x600 with 1 Axes>"
      ]
     },
     "metadata": {},
     "output_type": "display_data"
    }
   ],
   "source": [
    "# Count active and inactive members per country\n",
    "grouped_df = df.groupby(['Geography', 'Exited']).size().unstack(fill_value=0)\n",
    "\n",
    "# Rename columns for clarity\n",
    "grouped_df.columns = ['Inactive', 'Active']\n",
    "\n",
    "bar_width = 0.5\n",
    "bar_positions = np.arange(len(grouped_df))\n",
    "\n",
    "# Create the plot\n",
    "fig, ax = plt.subplots(figsize=(8, 6))\n",
    "\n",
    "# Plot stacked bars\n",
    "ax.bar(bar_positions, grouped_df['Inactive'], bar_width, label='Active', color='green')\n",
    "ax.bar(bar_positions, grouped_df['Active'], bar_width, bottom=grouped_df['Inactive'], label='Inactive', color='red')\n",
    "\n",
    "# Add labels and title         2509\n",
    "ax.set_xlabel('Country')\n",
    "ax.set_ylabel('Count')\n",
    "ax.set_title('Count of Active and Inactive Members by Country')\n",
    "ax.set_xticks(bar_positions)            #plt.xticks([0, 1], ['Inactive 4849', 'Active 5151'])\n",
    "ax.set_xticklabels(['France (5014)','Germany (2509)', 'Spain (2477)'])\n",
    "ax.legend()          #we plot a graph to display countries by active and inactive members\n",
    "                    #and clearly we can see that france has the highest population  (5014)\n",
    "# Show the plot     #From this graph we also realize that the ratio of active users to inactive users for each country doesn't varry much aprox.the same\n",
    "                    ###This is to say that comparison by active to inactive members is nearly the same amongst countries\n",
    "plt.show()          "
   ]
  },
  {
   "cell_type": "code",
   "execution_count": null,
   "id": "c91262eb-5ecd-45fd-a6a5-ce40fbe3a04b",
   "metadata": {},
   "outputs": [],
   "source": []
  },
  {
   "cell_type": "markdown",
   "id": "3e00cdaa-0845-4c70-8439-c50460695e80",
   "metadata": {},
   "source": [
    "##### This analysis shows that Germany has a high number of members who exited and this raises a concern "
   ]
  },
  {
   "cell_type": "code",
   "execution_count": null,
   "id": "54988624-1808-48b7-9f55-5031761fde6b",
   "metadata": {},
   "outputs": [],
   "source": []
  },
  {
   "cell_type": "markdown",
   "id": "45f0b853-601e-46d5-866b-1d1f51a7f2a9",
   "metadata": {},
   "source": [
    "##    ANALYSIS OF MEMBERS BY GEOGRAPHY WITH REGARDS TO NUMBER OF PRODUCTS PURCHASED"
   ]
  },
  {
   "cell_type": "code",
   "execution_count": 296,
   "id": "f5a2e79c-80c7-40dc-ab6c-cb21d76557ab",
   "metadata": {},
   "outputs": [
    {
     "data": {
      "text/plain": [
       "7676"
      ]
     },
     "execution_count": 296,
     "metadata": {},
     "output_type": "execute_result"
    }
   ],
   "source": [
    "# df['NumOfProducts'].sum()     #Here we check total number of purchased products  = 15302\n",
    "franc['NumOfProducts'].sum()   #Then we check the number of products purchased by France members \n",
    "franc_mem_by_prod = franc['NumOfProducts'].sum()  #so total number of products purchased by France members = 7676. that is about 50% of the total number of products\n",
    "franc_mem_by_prod"
   ]
  },
  {
   "cell_type": "code",
   "execution_count": null,
   "id": "e4f821b8-9063-4130-b719-4d15a135841e",
   "metadata": {},
   "outputs": [],
   "source": []
  },
  {
   "cell_type": "code",
   "execution_count": 297,
   "id": "e6ca7a59-1771-4d23-b480-7b3a3363c9a3",
   "metadata": {},
   "outputs": [
    {
     "data": {
      "text/plain": [
       "3813"
      ]
     },
     "execution_count": 297,
     "metadata": {},
     "output_type": "execute_result"
    }
   ],
   "source": [
    "# df['NumOfProducts'].sum()     #Remember total number of purchased products  = 15302\n",
    "german['NumOfProducts'].sum()   #Then we check the number of products purchased by German members \n",
    "german_mem_by_prod = german['NumOfProducts'].sum()  #so total number of products purchased by German members = 3813. that is about 24.9% of the total number of products\n",
    "german_mem_by_prod"
   ]
  },
  {
   "cell_type": "code",
   "execution_count": null,
   "id": "34c0cd01-3924-439b-9b4b-09723fd9ef79",
   "metadata": {},
   "outputs": [],
   "source": []
  },
  {
   "cell_type": "code",
   "execution_count": 298,
   "id": "a4373295-d366-4c16-ad45-d4dfd200a66b",
   "metadata": {},
   "outputs": [
    {
     "data": {
      "text/plain": [
       "3813"
      ]
     },
     "execution_count": 298,
     "metadata": {},
     "output_type": "execute_result"
    }
   ],
   "source": [
    "# df['NumOfProducts'].sum()     #Remember total number of purchased products  = 15302\n",
    "spain['NumOfProducts'].sum()   #Then we check the number of products purchased by Spain members \n",
    "spain_mem_by_prod = spain['NumOfProducts'].sum()  #so total number of products purchased by Spain members = 3813. that is about 24.9% of the total number of products\n",
    "spain_mem_by_prod"
   ]
  },
  {
   "cell_type": "code",
   "execution_count": null,
   "id": "93dd7e8b-7a00-4770-9184-fb5213f1c0d1",
   "metadata": {},
   "outputs": [],
   "source": []
  },
  {
   "cell_type": "code",
   "execution_count": 300,
   "id": "9452110a-6a0e-44c6-9baf-9aa4310f0ffb",
   "metadata": {},
   "outputs": [
    {
     "data": {
      "image/png": "[encoded data removed]",
      "text/plain": [
       "<Figure size 640x480 with 1 Axes>"
      ]
     },
     "metadata": {},
     "output_type": "display_data"
    }
   ],
   "source": [
    "categories = ['France', 'Spain', 'Germany']\n",
    "counts = [franc_mem_by_prod, german_mem_by_prod ,spain_mem_by_prod]\n",
    "\n",
    "plt.bar(categories, counts, color= ['blue', 'red', 'black'])\n",
    "plt.ylabel('Count')\n",
    "plt.title('Count of Products Purchased by Country Category')\n",
    "plt.show()"
   ]
  },
  {
   "cell_type": "code",
   "execution_count": null,
   "id": "c330c156-3898-4c6a-af76-f36e3d683410",
   "metadata": {},
   "outputs": [],
   "source": []
  },
  {
   "cell_type": "markdown",
   "id": "30739e62-a10c-4f99-b9c9-3dac4d4c54a1",
   "metadata": {},
   "source": [
    "##### This analysis shows that Germany has a high number of members who exited and this raises a concern "
   ]
  },
  {
   "cell_type": "code",
   "execution_count": null,
   "id": "29be28de-4571-4014-b349-26380dd6ee69",
   "metadata": {},
   "outputs": [],
   "source": []
  },
  {
   "cell_type": "markdown",
   "id": "888570cc-5f4d-4421-a93e-43a0f67d96a0",
   "metadata": {},
   "source": [
    "## BROKE TEST ANALYSIS BY COUNTRY"
   ]
  },
  {
   "cell_type": "code",
   "execution_count": 301,
   "id": "22931abf-5399-41f6-a826-8664122e1fe8",
   "metadata": {},
   "outputs": [
    {
     "data": {
      "text/plain": [
       "0"
      ]
     },
     "execution_count": 301,
     "metadata": {},
     "output_type": "execute_result"
    }
   ],
   "source": [
    "broke_test_germany = exited_mem[exited_mem['Geography']=='Germany']\n",
    "german_plot = broke_test_germany[broke_test_germany['Balance']==0.00]      #so from here we find out that \n",
    "german_plott = german_plot['Age'].count()                                  #Germany Exited customers that has no money in their account is 0\n",
    "                                                         \n",
    "german_plott"
   ]
  },
  {
   "cell_type": "code",
   "execution_count": null,
   "id": "756f4263-f340-4d6e-a855-29168d4c9235",
   "metadata": {},
   "outputs": [],
   "source": []
  },
  {
   "cell_type": "code",
   "execution_count": 302,
   "id": "7b86aa37-0fd1-4d02-94f1-e3aa3c68b255",
   "metadata": {},
   "outputs": [
    {
     "data": {
      "text/plain": [
       "337"
      ]
     },
     "execution_count": 302,
     "metadata": {},
     "output_type": "execute_result"
    }
   ],
   "source": [
    "broke_test_france = exited_mem[exited_mem['Geography']=='France']\n",
    "broke_test_france[broke_test_france['Balance']==0.00].count()   #so from here we find out that \n",
    "broke_test_france['Age'].count()        #France customers who left and has no money in their account is 337 out of 810\n",
    "france_plot = broke_test_france[broke_test_france['Balance']==0.00] #that is to say about 42% of France Exited members are broke\n",
    "france_plott = france_plot['Age'].count()                            #so we can say that majority of exited customers from France could have left due to \n",
    "france_plott                                                         #insufficient account balance since a good percentage of them \"42%\" have no money\n",
    "\n",
    "# france_plot"
   ]
  },
  {
   "cell_type": "code",
   "execution_count": null,
   "id": "b22c4ad0-d081-4839-9505-3a899542052f",
   "metadata": {},
   "outputs": [],
   "source": []
  },
  {
   "cell_type": "code",
   "execution_count": 305,
   "id": "79d37cd4-e4d0-46b9-9f1b-a735186a3d05",
   "metadata": {},
   "outputs": [
    {
     "data": {
      "text/plain": [
       "163"
      ]
     },
     "execution_count": 305,
     "metadata": {},
     "output_type": "execute_result"
    }
   ],
   "source": [
    "broke_test_Spain = exited_mem[exited_mem['Geography']=='Spain']\n",
    "broke_test_Spain[broke_test_Spain['Balance']==0.00].count() #so from here we find out that \n",
    "                                                            #Spain customers who left and has no money in their account is 163 out of 413\n",
    "spain_plot = broke_test_Spain[broke_test_Spain['Balance']==0.00]  #about 39.4% of Spain Exited members are broke\n",
    "spain_plott = spain_plot['Age'].count()                           #so we can say that majority of exited customers from Spain could have left due to \n",
    "spain_plott                                                        #insufficient account balance since a good percentage of them \"39.4%\" have no money"
   ]
  },
  {
   "cell_type": "code",
   "execution_count": null,
   "id": "36fa8b09-b998-467a-b9a2-a80b756091f4",
   "metadata": {},
   "outputs": [],
   "source": []
  },
  {
   "cell_type": "code",
   "execution_count": 304,
   "id": "5a5d23d2-680f-4fdc-a538-de552057a5cd",
   "metadata": {},
   "outputs": [
    {
     "data": {
      "image/png": "[encoded data removed]",
      "text/plain": [
       "<Figure size 640x480 with 1 Axes>"
      ]
     },
     "metadata": {},
     "output_type": "display_data"
    }
   ],
   "source": [
    "# Define the categories and counts\n",
    "categories = ['France', 'Spain', 'Germany']\n",
    "counts = [france_plott, spain_plott, german_plott]  # Ensure these variables are defined with count values\n",
    "\n",
    "# Create the bar chart\n",
    "plt.bar(categories, counts, color=['blue', 'green', 'red'])\n",
    "\n",
    "# Add labels and title\n",
    "# plt.xlabel('Country')\n",
    "plt.ylabel('Count')\n",
    "plt.title('Count of Bankrupt Members by Country')\n",
    "\n",
    "# Display the plot\n",
    "plt.show()\n"
   ]
  },
  {
   "cell_type": "markdown",
   "id": "a09f987e-fcb4-44d4-a973-bb5d4b2a6681",
   "metadata": {},
   "source": [
    "##### The analysis above raises a serious concern, as Germany which has the highest number of exited members cannot be aligned with \n",
    "##### bankrupcy. More analysis should be done in regard to German members, as to find out why they left"
   ]
  },
  {
   "cell_type": "code",
   "execution_count": null,
   "id": "def95b20-6543-4a20-a495-5c7d28181679",
   "metadata": {},
   "outputs": [],
   "source": []
  },
  {
   "cell_type": "code",
   "execution_count": null,
   "id": "8828d86b-5d23-4eaf-aeb6-61db0beb4359",
   "metadata": {},
   "outputs": [],
   "source": []
  },
  {
   "cell_type": "markdown",
   "id": "f73d53b3-e8b2-4c06-809f-21e430396511",
   "metadata": {},
   "source": [
    "##  WE CHECK THE RELATIONSHIP BETWEEN SALARY AND NUMBER OF PRODUCTS PURCHASED"
   ]
  },
  {
   "cell_type": "code",
   "execution_count": 17,
   "id": "14c50d35-db1c-4034-8fee-ed6133ff636b",
   "metadata": {},
   "outputs": [
    {
     "data": {
      "text/plain": [
       "100090.239881"
      ]
     },
     "execution_count": 17,
     "metadata": {},
     "output_type": "execute_result"
    }
   ],
   "source": [
    "mean_salary = df['EstimatedSalary'].mean()  #mean salary\n",
    "mean_salary"
   ]
  },
  {
   "cell_type": "code",
   "execution_count": 214,
   "id": "4d0748a2-49bb-4820-a42a-8479333e032e",
   "metadata": {},
   "outputs": [
    {
     "data": {
      "text/plain": [
       "15302"
      ]
     },
     "execution_count": 214,
     "metadata": {},
     "output_type": "execute_result"
    }
   ],
   "source": [
    "df['NumOfProducts'].sum()"
   ]
  },
  {
   "cell_type": "code",
   "execution_count": null,
   "id": "cabb7e78-501f-48c0-b97c-8911a62b4a3f",
   "metadata": {},
   "outputs": [],
   "source": []
  },
  {
   "cell_type": "code",
   "execution_count": 310,
   "id": "c20f6d2b-6a49-4cd7-b2a7-c82f0c103eb9",
   "metadata": {},
   "outputs": [
    {
     "data": {
      "text/plain": [
       "7696"
      ]
     },
     "execution_count": 310,
     "metadata": {},
     "output_type": "execute_result"
    }
   ],
   "source": [
    "good_salary = df[df['EstimatedSalary'] > mean_salary] #we check the number of members whose salary is greater than the mean salary = 5007\n",
    "good_salary_plot = good_salary['NumOfProducts'].sum()       #then we check for number of products they purchased  = 7696\n",
    "good_salary_plot"
   ]
  },
  {
   "cell_type": "code",
   "execution_count": 309,
   "id": "e1d3fa63-e309-4022-9078-2cc38e02b56d",
   "metadata": {},
   "outputs": [
    {
     "data": {
      "text/plain": [
       "7606"
      ]
     },
     "execution_count": 309,
     "metadata": {},
     "output_type": "execute_result"
    }
   ],
   "source": [
    "poor_salary = df[df['EstimatedSalary'] < mean_salary]  #we check the number of members whose salary is less than the mean salary =4993\n",
    "                                                       #then we check for number of products they purchased  = 7606\n",
    "poor_salary_plot = poor_salary['NumOfProducts'].sum()  \n",
    "#so we check the number of products people purchased with regards to their salary\n",
    "#we realize that the salary didn't really influence the number of products people \n",
    "#purchased, as the number of products those with good salary purchased is 7696,\n",
    "#while number of products those with poor salary purchased is 7606. this solidifies our \n",
    "###proposition that salary didn't influence the purchasing power of customers\n",
    "# poor_salary.count()\n",
    "poor_salary_plot"
   ]
  },
  {
   "cell_type": "code",
   "execution_count": 220,
   "id": "45c6a7f6-a27b-4691-a8d1-1e70b711736b",
   "metadata": {},
   "outputs": [
    {
     "data": {
      "image/png": "[encoded data removed]",
      "text/plain": [
       "<Figure size 640x480 with 1 Axes>"
      ]
     },
     "metadata": {},
     "output_type": "display_data"
    }
   ],
   "source": [
    "categories = [f'Good Salary\\n(5007 customers)', f'Poor Salary\\n(4993 customers)']\n",
    "counts = [good_salary_plot, poor_salary_plot]\n",
    "\n",
    "plt.bar(categories, counts, color = ['blue', 'brown'])\n",
    "# plt.xlabel('')\n",
    "plt.ylabel('Count')\n",
    "plt.title('Comparison of products purchased by salary category')\n",
    "plt.show()"
   ]
  },
  {
   "cell_type": "markdown",
   "id": "d3154d0a-132c-459f-87d8-ba1db3fded83",
   "metadata": {},
   "source": [
    "##### From the analysis above it obvious that salary didn't affect the purchase power of customers"
   ]
  },
  {
   "cell_type": "code",
   "execution_count": null,
   "id": "d3ab4db5-61c5-44d4-af5a-a5c6b5e31c85",
   "metadata": {},
   "outputs": [],
   "source": []
  },
  {
   "cell_type": "markdown",
   "id": "4fa602ee-723d-482e-a032-53f7e1b9f581",
   "metadata": {},
   "source": [
    "## CHECK RELATIONSHIP BETWEEN CREDIT SCORE AND PURCHASE OF GOODS BY CUSTOMERS"
   ]
  },
  {
   "cell_type": "code",
   "execution_count": 49,
   "id": "dd415989-68c3-4834-b094-07f71d70418f",
   "metadata": {},
   "outputs": [
    {
     "data": {
      "text/plain": [
       "650.5288"
      ]
     },
     "execution_count": 49,
     "metadata": {},
     "output_type": "execute_result"
    }
   ],
   "source": [
    "credit_mean = df['CreditScore'].mean()   #we check the mean credit score to see how it influences purchase\n",
    "credit_mean"
   ]
  },
  {
   "cell_type": "code",
   "execution_count": 21,
   "id": "2f45a62f-5d50-47e4-8cf0-dbd4e8c60e11",
   "metadata": {},
   "outputs": [
    {
     "data": {
      "text/plain": [
       "count    10000.000000\n",
       "mean       650.528800\n",
       "std         96.653299\n",
       "min        350.000000\n",
       "25%        584.000000\n",
       "50%        652.000000\n",
       "75%        718.000000\n",
       "max        850.000000\n",
       "Name: CreditScore, dtype: float64"
      ]
     },
     "execution_count": 21,
     "metadata": {},
     "output_type": "execute_result"
    }
   ],
   "source": [
    "df['CreditScore'].describe()"
   ]
  },
  {
   "cell_type": "code",
   "execution_count": 314,
   "id": "0649acac-2b67-48ca-875b-552c101031ec",
   "metadata": {},
   "outputs": [
    {
     "data": {
      "text/plain": [
       "15302"
      ]
     },
     "execution_count": 314,
     "metadata": {},
     "output_type": "execute_result"
    }
   ],
   "source": [
    "df['NumOfProducts'].sum()"
   ]
  },
  {
   "cell_type": "code",
   "execution_count": null,
   "id": "9342854e-a4b0-4066-8119-5c23d2d93020",
   "metadata": {},
   "outputs": [],
   "source": []
  },
  {
   "cell_type": "code",
   "execution_count": 228,
   "id": "4e7e2572-a6e6-46f8-8519-d40f3eda2f02",
   "metadata": {},
   "outputs": [
    {
     "data": {
      "text/plain": [
       "3837"
      ]
     },
     "execution_count": 228,
     "metadata": {},
     "output_type": "execute_result"
    }
   ],
   "source": [
    "# using code below, and for each percenitle we check for many product each percentile group was able to purchase\n",
    "sevetyFifth_percentile = df[df['CreditScore'] >= 718.000000 ]\n",
    "sevetyFifth_percentile['NumOfProducts'].sum()"
   ]
  },
  {
   "cell_type": "code",
   "execution_count": 311,
   "id": "66f74fb2-d771-493f-afe1-072bd9a72dbe",
   "metadata": {},
   "outputs": [
    {
     "data": {
      "text/plain": [
       "15302"
      ]
     },
     "execution_count": 311,
     "metadata": {},
     "output_type": "execute_result"
    }
   ],
   "source": [
    "df['NumOfProducts'].sum()   #75th percertile and above purchased 3837 products\n",
    "                            #50th percentile to 75th percentile = 3837 products\n",
    "                            #25th percentile to 50th percentile = 3867 products\n",
    "                            #min percentile to 25th percentile = 3761 products\n",
    "                            #these figures sumed up amounts to 15302(total purchase)\n"
   ]
  },
  {
   "cell_type": "markdown",
   "id": "26f93b50-bdec-40f6-a802-5824724d3290",
   "metadata": {},
   "source": [
    "##### this indicates that people with what ever credit scores had purchased approx. equal number of products. therefore credit score didn't generally influence purchase\n"
   ]
  },
  {
   "cell_type": "code",
   "execution_count": null,
   "id": "76ab2468-fb03-40f5-ab4c-dd5e75717a59",
   "metadata": {},
   "outputs": [],
   "source": []
  },
  {
   "cell_type": "code",
   "execution_count": null,
   "id": "a5a2bb87-8124-440c-b8db-937ddf91eab8",
   "metadata": {},
   "outputs": [],
   "source": []
  },
  {
   "cell_type": "markdown",
   "id": "72c7f860-2700-4dd2-9117-76168f9aef37",
   "metadata": {},
   "source": [
    "## ANALYSIS OF PRODUCTS PURCHASED WITH REGARDS TO GENDER"
   ]
  },
  {
   "cell_type": "code",
   "execution_count": 234,
   "id": "4385fb45-1732-4f39-9fad-66df897d4c10",
   "metadata": {},
   "outputs": [
    {
     "data": {
      "text/plain": [
       "Text(0.5, 1.0, 'Number of products purchased by Gender Catergory')"
      ]
     },
     "execution_count": 234,
     "metadata": {},
     "output_type": "execute_result"
    },
    {
     "data": {
      "image/png": "[encoded data removed]",
      "text/plain": [
       "<Figure size 640x480 with 1 Axes>"
      ]
     },
     "metadata": {},
     "output_type": "display_data"
    }
   ],
   "source": [
    "male = df[df['Gender'] == 'Male']     #Number of male customers = 5457\n",
    "                                      #Number of products purchased by males = 8287\n",
    "\n",
    "female = df[df['Gender'] == 'Female']  #Number of female customers = 4543\n",
    "                                       #Number of products purchased by female = 7015\n",
    "#RESULT\n",
    "\n",
    "\n",
    "\n",
    "# female.count()\n",
    "num_of_prod_by_female = female['NumOfProducts'].sum()\n",
    "num_of_prod_by_male = male['NumOfProducts'].sum()\n",
    "categories  = ['Male', 'Female']\n",
    "counts = [num_of_prod_by_male, num_of_prod_by_female]\n",
    "\n",
    "plt.bar(categories, counts, color= ['brown', 'gold'])\n",
    "plt.ylabel('Count')\n",
    "plt.title('Number of products purchased by Gender Catergory')"
   ]
  },
  {
   "cell_type": "markdown",
   "id": "0c88adee-9463-4fee-a41d-ae4913413c21",
   "metadata": {},
   "source": [
    "#### this indicates that the number of female customers  to male customers is approx. 83.3%. While the number of products purchased by female customers to male customers is approx. 84.6%.\n",
    "#### THIS SHOWS THAT GENDER DIDN'T INFLUENCE THE PURCHASE POWER OF CUSTOMERS\n"
   ]
  },
  {
   "cell_type": "code",
   "execution_count": null,
   "id": "6295add9-27ad-4caa-bd73-0bdefed6640d",
   "metadata": {},
   "outputs": [],
   "source": []
  },
  {
   "cell_type": "code",
   "execution_count": null,
   "id": "e179c63f-3a50-4ef1-895a-859a9ef93a03",
   "metadata": {},
   "outputs": [],
   "source": []
  },
  {
   "cell_type": "markdown",
   "id": "6f07ce1e-e872-45e2-92fa-e3fe76370d29",
   "metadata": {},
   "source": [
    "#          SPECIAL ANALYSIS FOR GERMANY"
   ]
  },
  {
   "cell_type": "markdown",
   "id": "68467949-5afb-40cb-97d9-5689c1a3eb3c",
   "metadata": {},
   "source": [
    "###### by salary"
   ]
  },
  {
   "cell_type": "code",
   "execution_count": 118,
   "id": "190f2a9c-7096-4395-9dac-d3ed4f290a1d",
   "metadata": {},
   "outputs": [
    {
     "data": {
      "text/plain": [
       "count      2509.000000\n",
       "mean     101113.435102\n",
       "std       58263.011501\n",
       "min          11.580000\n",
       "25%       51016.020000\n",
       "50%      102397.220000\n",
       "75%      151083.800000\n",
       "max      199970.740000\n",
       "Name: EstimatedSalary, dtype: float64"
      ]
     },
     "execution_count": 118,
     "metadata": {},
     "output_type": "execute_result"
    }
   ],
   "source": [
    "german['EstimatedSalary'].describe()"
   ]
  },
  {
   "cell_type": "code",
   "execution_count": 119,
   "id": "fbdc56ac-83b9-41d5-a214-6367c69a74b2",
   "metadata": {},
   "outputs": [
    {
     "name": "stdout",
     "output_type": "stream",
     "text": [
      "count      2509.000000\n",
      "mean     101113.435102\n",
      "std       58263.011501\n",
      "min          11.580000\n",
      "25%       51016.020000\n",
      "50%      102397.220000\n",
      "75%      151083.800000\n",
      "max      199970.740000\n",
      "Name: EstimatedSalary, dtype: float64 \n",
      "__SPACING__\n",
      " count     10000.000000\n",
      "mean     100090.239881\n",
      "std       57510.492818\n",
      "min          11.580000\n",
      "25%       51002.110000\n",
      "50%      100193.915000\n",
      "75%      149388.247500\n",
      "max      199992.480000\n",
      "Name: EstimatedSalary, dtype: float64\n"
     ]
    }
   ],
   "source": [
    "print(german['EstimatedSalary'].describe(), f\"\\n__SPACING__\\n\",  df['EstimatedSalary'].describe())"
   ]
  },
  {
   "cell_type": "code",
   "execution_count": null,
   "id": "8f84dd10-cad0-4015-bdaf-95e3cfe0970a",
   "metadata": {},
   "outputs": [],
   "source": []
  },
  {
   "cell_type": "code",
   "execution_count": null,
   "id": "0176f2a0-f9b6-47b5-90c2-18321b7d17a1",
   "metadata": {},
   "outputs": [],
   "source": []
  },
  {
   "cell_type": "code",
   "execution_count": 98,
   "id": "0c2934dd-b5f2-420f-91f0-c8988a45abda",
   "metadata": {},
   "outputs": [
    {
     "data": {
      "text/plain": [
       "count     10000.000000\n",
       "mean      76485.889288\n",
       "std       62397.405202\n",
       "min           0.000000\n",
       "25%           0.000000\n",
       "50%       97198.540000\n",
       "75%      127644.240000\n",
       "max      250898.090000\n",
       "Name: Balance, dtype: float64"
      ]
     },
     "execution_count": 98,
     "metadata": {},
     "output_type": "execute_result"
    }
   ],
   "source": [
    "df['Balance'].describe()"
   ]
  },
  {
   "cell_type": "code",
   "execution_count": null,
   "id": "591e4773-32bb-4863-9dce-ee7b347d46d8",
   "metadata": {},
   "outputs": [],
   "source": []
  },
  {
   "cell_type": "code",
   "execution_count": 313,
   "id": "02ac5b59-940d-4ea9-be44-582744f8d17d",
   "metadata": {},
   "outputs": [
    {
     "data": {
      "text/plain": [
       "count      2509.000000\n",
       "mean     119730.116134\n",
       "std       27022.006157\n",
       "min       27288.430000\n",
       "25%      102800.720000\n",
       "50%      119703.100000\n",
       "75%      137560.380000\n",
       "max      214346.960000\n",
       "Name: Balance, dtype: float64"
      ]
     },
     "execution_count": 313,
     "metadata": {},
     "output_type": "execute_result"
    }
   ],
   "source": [
    "german['Balance'].describe()"
   ]
  },
  {
   "cell_type": "code",
   "execution_count": null,
   "id": "2b983b95-84b8-4c9e-8d29-1680d7c42157",
   "metadata": {},
   "outputs": [],
   "source": []
  },
  {
   "cell_type": "raw",
   "id": "289de73b-aba2-4f8f-a48b-492c20bc8a88",
   "metadata": {},
   "source": [
    "Comparison of Account balance for Germany to general account record\n",
    "\n",
    "minimum balance =          27288  --  0.000000  standard min\n",
    "mean balance for Germany = 119730 --  76485 = standard mean\n",
    "maximumn balance =         214346  -- 250898.090000 = standard max\n",
    "This analysis proves that the account balance of german member is by far more sufficient than the average account of balance of the data's general \n",
    "balance. So ins"
   ]
  },
  {
   "cell_type": "code",
   "execution_count": null,
   "id": "22e77989-6fb9-4df3-8cf9-f0786f7663cd",
   "metadata": {},
   "outputs": [],
   "source": []
  },
  {
   "cell_type": "markdown",
   "id": "61503e82-1e69-4722-858a-aadb1ebcd5b0",
   "metadata": {},
   "source": [
    "##### German analysis by Age Category"
   ]
  },
  {
   "cell_type": "code",
   "execution_count": 235,
   "id": "a8e14499-c224-4e20-8533-00a7cbdb7db9",
   "metadata": {},
   "outputs": [
    {
     "data": {
      "text/plain": [
       "count    10000.000000\n",
       "mean        38.921800\n",
       "std         10.487806\n",
       "min         18.000000\n",
       "25%         32.000000\n",
       "50%         37.000000\n",
       "75%         44.000000\n",
       "max         92.000000\n",
       "Name: Age, dtype: float64"
      ]
     },
     "execution_count": 235,
     "metadata": {},
     "output_type": "execute_result"
    }
   ],
   "source": [
    "df['Age'].describe()"
   ]
  },
  {
   "cell_type": "code",
   "execution_count": 102,
   "id": "2206eef7-95fe-439a-92bb-814cc85050f5",
   "metadata": {},
   "outputs": [
    {
     "data": {
      "text/plain": [
       "count    2509.000000\n",
       "mean       39.771622\n",
       "std        10.519143\n",
       "min        18.000000\n",
       "25%        32.000000\n",
       "50%        38.000000\n",
       "75%        45.000000\n",
       "max        84.000000\n",
       "Name: Age, dtype: float64"
      ]
     },
     "execution_count": 102,
     "metadata": {},
     "output_type": "execute_result"
    }
   ],
   "source": [
    "german['Age'].describe()"
   ]
  },
  {
   "cell_type": "code",
   "execution_count": 316,
   "id": "570b8497-840f-4634-a348-efb70f434c14",
   "metadata": {},
   "outputs": [
    {
     "data": {
      "text/plain": [
       "RowNumber          540\n",
       "CustomerId         540\n",
       "Surname            540\n",
       "CreditScore        540\n",
       "Geography          540\n",
       "Gender             540\n",
       "Age                540\n",
       "Tenure             540\n",
       "Balance            540\n",
       "NumOfProducts      540\n",
       "HasCrCard          540\n",
       "IsActiveMember     540\n",
       "EstimatedSalary    540\n",
       "Exited             540\n",
       "dtype: int64"
      ]
     },
     "execution_count": 316,
     "metadata": {},
     "output_type": "execute_result"
    }
   ],
   "source": [
    "# german[german['Gender'] == 'Male'].count()        #German male members = 1316\n",
    "# german[german['Gender'] == 'Female'].count()        #German female members = 1193\n",
    "                                            \n",
    "german[german['Age'] < 32].count()    #German members between age quartile of 75% and more (45)= 688\n",
    "                                             #German members between age 50%-75% (38,45)=650\n",
    "                                             #German members between age 25%-50% (32-38)= 631\n",
    "                                             #German members less 25% (from 32 downwards)= 540\n",
    "\n"
   ]
  },
  {
   "cell_type": "code",
   "execution_count": 315,
   "id": "2a2f3080-7fc3-4c40-8d8e-13ed1b119595",
   "metadata": {},
   "outputs": [
    {
     "data": {
      "text/plain": [
       "889"
      ]
     },
     "execution_count": 315,
     "metadata": {},
     "output_type": "execute_result"
    }
   ],
   "source": [
    "#here we check how many products each age quartile purchased\n",
    "# german[german['Age'] <= 32.000000]['NumOfProducts'].sum()      #for 25% and less =974\n",
    "# german[german['Age'] <= 38.000000]['NumOfProducts'].sum()       #for 50% to 25% = 961\n",
    "# german[german['Age'] <= 45.000000]['NumOfProducts'].sum()        #for 75% to 50% = 989\n",
    "german[german['Age'] > 45.000000]['NumOfProducts'].sum()        #for over 75%% = 889"
   ]
  },
  {
   "cell_type": "markdown",
   "id": "bd8ca9a9-2d0d-41a6-be6c-37d6d89b71df",
   "metadata": {},
   "source": [
    "##### This analysis indicates that customers from Germany does not specifically fall under a certain age  quartile. Thus we cannot say that age influenced the customer churn"
   ]
  },
  {
   "cell_type": "code",
   "execution_count": null,
   "id": "de781713-8800-44d4-9d41-2c87563b806b",
   "metadata": {},
   "outputs": [],
   "source": []
  },
  {
   "cell_type": "code",
   "execution_count": null,
   "id": "b1be5358-d7f8-4454-8de4-3e0bfd9f8e31",
   "metadata": {},
   "outputs": [],
   "source": []
  },
  {
   "cell_type": "markdown",
   "id": "b18228f3-629b-4921-ae02-948e598ee320",
   "metadata": {},
   "source": [
    "##  Analysis  of German customer by Salary Category"
   ]
  },
  {
   "cell_type": "code",
   "execution_count": 255,
   "id": "bbb2c346-3883-44ce-8746-8d5f3e8f02c8",
   "metadata": {},
   "outputs": [
    {
     "data": {
      "text/plain": [
       "count     10000.000000\n",
       "mean     100090.239881\n",
       "std       57510.492818\n",
       "min          11.580000\n",
       "25%       51002.110000\n",
       "50%      100193.915000\n",
       "75%      149388.247500\n",
       "max      199992.480000\n",
       "Name: EstimatedSalary, dtype: float64"
      ]
     },
     "execution_count": 255,
     "metadata": {},
     "output_type": "execute_result"
    }
   ],
   "source": [
    "df['EstimatedSalary'].describe()"
   ]
  },
  {
   "cell_type": "code",
   "execution_count": 318,
   "id": "71ade900-d3b5-4db1-acc7-114eebe02f16",
   "metadata": {},
   "outputs": [
    {
     "data": {
      "text/plain": [
       "RowNumber          647\n",
       "CustomerId         647\n",
       "Surname            647\n",
       "CreditScore        647\n",
       "Geography          647\n",
       "Gender             647\n",
       "Age                647\n",
       "Tenure             647\n",
       "Balance            647\n",
       "NumOfProducts      647\n",
       "HasCrCard          647\n",
       "IsActiveMember     647\n",
       "EstimatedSalary    647\n",
       "Exited             647\n",
       "dtype: int64"
      ]
     },
     "execution_count": 318,
     "metadata": {},
     "output_type": "execute_result"
    }
   ],
   "source": [
    "german[german['EstimatedSalary']>= 149388.247500].count()\n",
    "                                    # minimum salary =          11.58  --  11.58  standard minimum salary\n",
    "                                    # mean salary for Germany = 101113. --  100090 = standard mean salary\n",
    "                                    # maximum salary =         199970  -- 199992 = standard max salary\n",
    "                                    # This analysis proves that the salary of german member is by far more sufficient than the average account of balance of the data's general \n",
    "                                    # balance. So ins\n",
    "                                    \n",
    "                                    # ____________________\n",
    "                                    # using code 'german[german['EstimatedSalary'] <= 51002.110000].count()',\n",
    "                                    # we check for German memebers whose salary is at 25% percent salary or less= 627\n",
    "                                    # we also check German members wehose salary is between 50% to 25% salary = 607\n",
    "                                    # we also check German members wehose salary is between 75% to 50% salary = 647"
   ]
  },
  {
   "cell_type": "markdown",
   "id": "4c28e5b3-9ef6-4d3a-8c28-98eed08e61f8",
   "metadata": {},
   "source": [
    "##### We from the analysis above, deduct that Salary did not in affect the customer churn for German members, as each Salary quartile had purchased approx. equal number of products"
   ]
  },
  {
   "cell_type": "code",
   "execution_count": null,
   "id": "d3df9ad5-556c-411d-9db3-a02c4745b26c",
   "metadata": {},
   "outputs": [],
   "source": []
  },
  {
   "cell_type": "markdown",
   "id": "0b8113a5-861d-40c2-914e-6bbc38651dd4",
   "metadata": {},
   "source": [
    "##  Analysis  of German customer by CreditScore Category"
   ]
  },
  {
   "cell_type": "code",
   "execution_count": null,
   "id": "24a473a5-80f3-4e43-b8e7-16855e9be769",
   "metadata": {},
   "outputs": [],
   "source": []
  },
  {
   "cell_type": "code",
   "execution_count": 257,
   "id": "7302cad7-bb96-4456-8fe2-c4988c372318",
   "metadata": {},
   "outputs": [
    {
     "data": {
      "text/html": [
       "<div>\n",
       "<style scoped>\n",
       "    .dataframe tbody tr th:only-of-type {\n",
       "        vertical-align: middle;\n",
       "    }\n",
       "\n",
       "    .dataframe tbody tr th {\n",
       "        vertical-align: top;\n",
       "    }\n",
       "\n",
       "    .dataframe thead th {\n",
       "        text-align: right;\n",
       "    }\n",
       "</style>\n",
       "<table border=\"1\" class=\"dataframe\">\n",
       "  <thead>\n",
       "    <tr style=\"text-align: right;\">\n",
       "      <th></th>\n",
       "      <th>RowNumber</th>\n",
       "      <th>CustomerId</th>\n",
       "      <th>Surname</th>\n",
       "      <th>CreditScore</th>\n",
       "      <th>Geography</th>\n",
       "      <th>Gender</th>\n",
       "      <th>Age</th>\n",
       "      <th>Tenure</th>\n",
       "      <th>Balance</th>\n",
       "      <th>NumOfProducts</th>\n",
       "      <th>HasCrCard</th>\n",
       "      <th>IsActiveMember</th>\n",
       "      <th>EstimatedSalary</th>\n",
       "      <th>Exited</th>\n",
       "    </tr>\n",
       "  </thead>\n",
       "  <tbody>\n",
       "    <tr>\n",
       "      <th>1838</th>\n",
       "      <td>1839</td>\n",
       "      <td>15758813</td>\n",
       "      <td>Campbell</td>\n",
       "      <td>350</td>\n",
       "      <td>Germany</td>\n",
       "      <td>Male</td>\n",
       "      <td>39</td>\n",
       "      <td>0</td>\n",
       "      <td>109733.20</td>\n",
       "      <td>2</td>\n",
       "      <td>0</td>\n",
       "      <td>0</td>\n",
       "      <td>123602.11</td>\n",
       "      <td>1</td>\n",
       "    </tr>\n",
       "    <tr>\n",
       "      <th>2473</th>\n",
       "      <td>2474</td>\n",
       "      <td>15679249</td>\n",
       "      <td>Chou</td>\n",
       "      <td>351</td>\n",
       "      <td>Germany</td>\n",
       "      <td>Female</td>\n",
       "      <td>57</td>\n",
       "      <td>4</td>\n",
       "      <td>163146.46</td>\n",
       "      <td>1</td>\n",
       "      <td>1</td>\n",
       "      <td>0</td>\n",
       "      <td>169621.69</td>\n",
       "      <td>1</td>\n",
       "    </tr>\n",
       "    <tr>\n",
       "      <th>2579</th>\n",
       "      <td>2580</td>\n",
       "      <td>15597896</td>\n",
       "      <td>Ozoemena</td>\n",
       "      <td>365</td>\n",
       "      <td>Germany</td>\n",
       "      <td>Male</td>\n",
       "      <td>30</td>\n",
       "      <td>0</td>\n",
       "      <td>127760.07</td>\n",
       "      <td>1</td>\n",
       "      <td>1</td>\n",
       "      <td>0</td>\n",
       "      <td>81537.85</td>\n",
       "      <td>1</td>\n",
       "    </tr>\n",
       "    <tr>\n",
       "      <th>7</th>\n",
       "      <td>8</td>\n",
       "      <td>15656148</td>\n",
       "      <td>Obinna</td>\n",
       "      <td>376</td>\n",
       "      <td>Germany</td>\n",
       "      <td>Female</td>\n",
       "      <td>29</td>\n",
       "      <td>4</td>\n",
       "      <td>115046.74</td>\n",
       "      <td>4</td>\n",
       "      <td>1</td>\n",
       "      <td>0</td>\n",
       "      <td>119346.88</td>\n",
       "      <td>1</td>\n",
       "    </tr>\n",
       "    <tr>\n",
       "      <th>6253</th>\n",
       "      <td>6254</td>\n",
       "      <td>15675337</td>\n",
       "      <td>Forbes</td>\n",
       "      <td>395</td>\n",
       "      <td>Germany</td>\n",
       "      <td>Female</td>\n",
       "      <td>34</td>\n",
       "      <td>5</td>\n",
       "      <td>106011.59</td>\n",
       "      <td>1</td>\n",
       "      <td>1</td>\n",
       "      <td>1</td>\n",
       "      <td>17376.57</td>\n",
       "      <td>1</td>\n",
       "    </tr>\n",
       "  </tbody>\n",
       "</table>\n",
       "</div>"
      ],
      "text/plain": [
       "      RowNumber  CustomerId   Surname  CreditScore Geography  Gender  Age  \\\n",
       "1838       1839    15758813  Campbell          350   Germany    Male   39   \n",
       "2473       2474    15679249      Chou          351   Germany  Female   57   \n",
       "2579       2580    15597896  Ozoemena          365   Germany    Male   30   \n",
       "7             8    15656148    Obinna          376   Germany  Female   29   \n",
       "6253       6254    15675337    Forbes          395   Germany  Female   34   \n",
       "\n",
       "      Tenure    Balance  NumOfProducts  HasCrCard  IsActiveMember  \\\n",
       "1838       0  109733.20              2          0               0   \n",
       "2473       4  163146.46              1          1               0   \n",
       "2579       0  127760.07              1          1               0   \n",
       "7          4  115046.74              4          1               0   \n",
       "6253       5  106011.59              1          1               1   \n",
       "\n",
       "      EstimatedSalary  Exited  \n",
       "1838        123602.11       1  \n",
       "2473        169621.69       1  \n",
       "2579         81537.85       1  \n",
       "7           119346.88       1  \n",
       "6253         17376.57       1  "
      ]
     },
     "execution_count": 257,
     "metadata": {},
     "output_type": "execute_result"
    }
   ],
   "source": [
    "german.sort_values(by = 'CreditScore', ascending = True).head(5)"
   ]
  },
  {
   "cell_type": "code",
   "execution_count": 166,
   "id": "e3f95fb9-c28b-4804-a610-913df38ffe59",
   "metadata": {},
   "outputs": [
    {
     "data": {
      "text/plain": [
       "count    10000.000000\n",
       "mean       650.528800\n",
       "std         96.653299\n",
       "min        350.000000\n",
       "25%        584.000000\n",
       "50%        652.000000\n",
       "75%        718.000000\n",
       "max        850.000000\n",
       "Name: CreditScore, dtype: float64"
      ]
     },
     "execution_count": 166,
     "metadata": {},
     "output_type": "execute_result"
    }
   ],
   "source": [
    "df['CreditScore'].describe()"
   ]
  },
  {
   "cell_type": "code",
   "execution_count": 268,
   "id": "6023d4be-74ae-425b-922f-d876e8fe98dc",
   "metadata": {},
   "outputs": [
    {
     "data": {
      "text/plain": [
       "650.5288"
      ]
     },
     "execution_count": 268,
     "metadata": {},
     "output_type": "execute_result"
    }
   ],
   "source": [
    "meannn = df['CreditScore'].mean()    \n",
    "meannn    #mean creditscore "
   ]
  },
  {
   "cell_type": "code",
   "execution_count": 281,
   "id": "9b7b75a0-10a1-4f8b-848c-7ea4e5eb044b",
   "metadata": {},
   "outputs": [
    {
     "data": {
      "text/plain": [
       "RowNumber          814\n",
       "CustomerId         814\n",
       "Surname            814\n",
       "CreditScore        814\n",
       "Geography          814\n",
       "Gender             814\n",
       "Age                814\n",
       "Tenure             814\n",
       "Balance            814\n",
       "NumOfProducts      814\n",
       "HasCrCard          814\n",
       "IsActiveMember     814\n",
       "EstimatedSalary    814\n",
       "Exited             814\n",
       "dtype: int64"
      ]
     },
     "execution_count": 281,
     "metadata": {},
     "output_type": "execute_result"
    }
   ],
   "source": [
    "german[german['Exited'] ==1].count()\n",
    "# german[german['Exited'] == 0].count()"
   ]
  },
  {
   "cell_type": "code",
   "execution_count": 286,
   "id": "72bf4fbf-aee6-45d9-bcaa-039c96c820b9",
   "metadata": {},
   "outputs": [
    {
     "data": {
      "text/plain": [
       "RowNumber          421\n",
       "CustomerId         421\n",
       "Surname            421\n",
       "CreditScore        421\n",
       "Geography          421\n",
       "Gender             421\n",
       "Age                421\n",
       "Tenure             421\n",
       "Balance            421\n",
       "NumOfProducts      421\n",
       "HasCrCard          421\n",
       "IsActiveMember     421\n",
       "EstimatedSalary    421\n",
       "Exited             421\n",
       "dtype: int64"
      ]
     },
     "execution_count": 286,
     "metadata": {},
     "output_type": "execute_result"
    }
   ],
   "source": [
    "# german[german['CreditScore'] < meannn ].count()         #number of German members with creditscore less than mean creditscore = 1250\n",
    "# german[german['CreditScore'] > meannn ].count()           ##number of German members with creditscore greater than mean creditscore = 1259\n",
    "germ_ext_poor_CS = german[german['CreditScore'] > meannn ]\n",
    "# germ_ext_poor_CS[germ_ext_poor_CS['Exited']==1].count()  #number of exited German members with good creditscore = 393\n",
    "\n",
    "germ_active_poor_CreditS = german[german['CreditScore'] < meannn ]\n",
    "germ_active_poor_CreditS[germ_active_poor_CreditS['Exited'] == 1].count()  #number of exited German members with bad creditscore = 421"
   ]
  },
  {
   "cell_type": "markdown",
   "id": "d70b92b0-e161-4213-8a12-03eee09f2b32",
   "metadata": {},
   "source": [
    "The analysis above proves there is no much difference in the number of inactive German members with bad creditscore(393) to the number of inactive German members with good creditscore (421)"
   ]
  },
  {
   "cell_type": "code",
   "execution_count": null,
   "id": "e35bcfcc-9cf3-4ddc-ac1b-756f43581051",
   "metadata": {},
   "outputs": [],
   "source": []
  },
  {
   "cell_type": "code",
   "execution_count": null,
   "id": "cb160630-6a8f-4887-8eca-f1a3accd8682",
   "metadata": {},
   "outputs": [],
   "source": []
  },
  {
   "cell_type": "markdown",
   "id": "e982faa1-fdbe-4a97-a5c5-da6aa14071f9",
   "metadata": {},
   "source": [
    "#                         CONCLUSION"
   ]
  },
  {
   "cell_type": "markdown",
   "id": "f7bb3b79-9305-455b-92b7-91aacd39a42e",
   "metadata": {},
   "source": [
    " *  Total number of active to inactive customers varry a lot, as the company has out of their 10000 cutomers,  7963 to be active, that is about 80% of their customers.\n",
    "\n",
    " * The customers of the company are from 3 countries(France,Germany and Spain). The relationship between the number of active members for each country is nearly identical. however to inactive members, there is a little need for alarm, as German has a high number of inactive members, conpared to France and Spain.\n",
    " * Comparing countries by bankrupcy rate and its influnce over activeness of customers, we see that France, and Spain has a good percentage of their inactive members to be bankrupt, thus, the major reason why customers from these places left could be ascribed to the issue of bankrupt. But Germany on the other hand does not have any bankrupt members. In fact, customers from there have very strong financial capability, and this raises a serious concern.\n",
    " * Analysis done with regards to the creditscore, age, gender and their individual influence over the purchase power of customers, proves that these factor did not have great influence over the purchase of products.\n",
    " * Therefore more analysis should be done for German with other factors, other than the ones provided"
   ]
  },
  {
   "cell_type": "code",
   "execution_count": null,
   "id": "7a62266d-9c44-4be2-a63f-bdd707466970",
   "metadata": {},
   "outputs": [],
   "source": []
  }
 ],
 "metadata": {
  "kernelspec": {
   "display_name": "Python 3 (ipykernel)",
   "language": "python",
   "name": "python3"
  },
  "language_info": {
   "codemirror_mode": {
    "name": "ipython",
    "version": 3
   },
   "file_extension": ".py",
   "mimetype": "text/x-python",
   "name": "python",
   "nbconvert_exporter": "python",
   "pygments_lexer": "ipython3",
   "version": "3.11.7"
  }
 },
 "nbformat": 4,
 "nbformat_minor": 5
}
