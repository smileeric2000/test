{
 "cells": [
  {
   "cell_type": "code",
   "execution_count": 1,
   "id": "c076bf9d-c84d-4a35-8a18-73a1b2f048cf",
   "metadata": {},
   "outputs": [
    {
     "data": {
      "text/html": [
       "<div>\n",
       "<style scoped>\n",
       "    .dataframe tbody tr th:only-of-type {\n",
       "        vertical-align: middle;\n",
       "    }\n",
       "\n",
       "    .dataframe tbody tr th {\n",
       "        vertical-align: top;\n",
       "    }\n",
       "\n",
       "    .dataframe thead th {\n",
       "        text-align: right;\n",
       "    }\n",
       "</style>\n",
       "<table border=\"1\" class=\"dataframe\">\n",
       "  <thead>\n",
       "    <tr style=\"text-align: right;\">\n",
       "      <th></th>\n",
       "      <th>RowNumber</th>\n",
       "      <th>CustomerId</th>\n",
       "      <th>Surname</th>\n",
       "      <th>CreditScore</th>\n",
       "      <th>Geography</th>\n",
       "      <th>Gender</th>\n",
       "      <th>Age</th>\n",
       "      <th>Tenure</th>\n",
       "      <th>Balance</th>\n",
       "      <th>NumOfProducts</th>\n",
       "      <th>HasCrCard</th>\n",
       "      <th>IsActiveMember</th>\n",
       "      <th>EstimatedSalary</th>\n",
       "      <th>Exited</th>\n",
       "    </tr>\n",
       "  </thead>\n",
       "  <tbody>\n",
       "    <tr>\n",
       "      <th>0</th>\n",
       "      <td>1</td>\n",
       "      <td>15634602</td>\n",
       "      <td>Hargrave</td>\n",
       "      <td>619</td>\n",
       "      <td>France</td>\n",
       "      <td>Female</td>\n",
       "      <td>42</td>\n",
       "      <td>2</td>\n",
       "      <td>0.00</td>\n",
       "      <td>1</td>\n",
       "      <td>1</td>\n",
       "      <td>1</td>\n",
       "      <td>101348.88</td>\n",
       "      <td>1</td>\n",
       "    </tr>\n",
       "    <tr>\n",
       "      <th>1</th>\n",
       "      <td>2</td>\n",
       "      <td>15647311</td>\n",
       "      <td>Hill</td>\n",
       "      <td>608</td>\n",
       "      <td>Spain</td>\n",
       "      <td>Female</td>\n",
       "      <td>41</td>\n",
       "      <td>1</td>\n",
       "      <td>83807.86</td>\n",
       "      <td>1</td>\n",
       "      <td>0</td>\n",
       "      <td>1</td>\n",
       "      <td>112542.58</td>\n",
       "      <td>0</td>\n",
       "    </tr>\n",
       "    <tr>\n",
       "      <th>2</th>\n",
       "      <td>3</td>\n",
       "      <td>15619304</td>\n",
       "      <td>Onio</td>\n",
       "      <td>502</td>\n",
       "      <td>France</td>\n",
       "      <td>Female</td>\n",
       "      <td>42</td>\n",
       "      <td>8</td>\n",
       "      <td>159660.80</td>\n",
       "      <td>3</td>\n",
       "      <td>1</td>\n",
       "      <td>0</td>\n",
       "      <td>113931.57</td>\n",
       "      <td>1</td>\n",
       "    </tr>\n",
       "    <tr>\n",
       "      <th>3</th>\n",
       "      <td>4</td>\n",
       "      <td>15701354</td>\n",
       "      <td>Boni</td>\n",
       "      <td>699</td>\n",
       "      <td>France</td>\n",
       "      <td>Female</td>\n",
       "      <td>39</td>\n",
       "      <td>1</td>\n",
       "      <td>0.00</td>\n",
       "      <td>2</td>\n",
       "      <td>0</td>\n",
       "      <td>0</td>\n",
       "      <td>93826.63</td>\n",
       "      <td>0</td>\n",
       "    </tr>\n",
       "    <tr>\n",
       "      <th>4</th>\n",
       "      <td>5</td>\n",
       "      <td>15737888</td>\n",
       "      <td>Mitchell</td>\n",
       "      <td>850</td>\n",
       "      <td>Spain</td>\n",
       "      <td>Female</td>\n",
       "      <td>43</td>\n",
       "      <td>2</td>\n",
       "      <td>125510.82</td>\n",
       "      <td>1</td>\n",
       "      <td>1</td>\n",
       "      <td>1</td>\n",
       "      <td>79084.10</td>\n",
       "      <td>0</td>\n",
       "    </tr>\n",
       "    <tr>\n",
       "      <th>5</th>\n",
       "      <td>6</td>\n",
       "      <td>15574012</td>\n",
       "      <td>Chu</td>\n",
       "      <td>645</td>\n",
       "      <td>Spain</td>\n",
       "      <td>Male</td>\n",
       "      <td>44</td>\n",
       "      <td>8</td>\n",
       "      <td>113755.78</td>\n",
       "      <td>2</td>\n",
       "      <td>1</td>\n",
       "      <td>0</td>\n",
       "      <td>149756.71</td>\n",
       "      <td>1</td>\n",
       "    </tr>\n",
       "    <tr>\n",
       "      <th>6</th>\n",
       "      <td>7</td>\n",
       "      <td>15592531</td>\n",
       "      <td>Bartlett</td>\n",
       "      <td>822</td>\n",
       "      <td>France</td>\n",
       "      <td>Male</td>\n",
       "      <td>50</td>\n",
       "      <td>7</td>\n",
       "      <td>0.00</td>\n",
       "      <td>2</td>\n",
       "      <td>1</td>\n",
       "      <td>1</td>\n",
       "      <td>10062.80</td>\n",
       "      <td>0</td>\n",
       "    </tr>\n",
       "    <tr>\n",
       "      <th>7</th>\n",
       "      <td>8</td>\n",
       "      <td>15656148</td>\n",
       "      <td>Obinna</td>\n",
       "      <td>376</td>\n",
       "      <td>Germany</td>\n",
       "      <td>Female</td>\n",
       "      <td>29</td>\n",
       "      <td>4</td>\n",
       "      <td>115046.74</td>\n",
       "      <td>4</td>\n",
       "      <td>1</td>\n",
       "      <td>0</td>\n",
       "      <td>119346.88</td>\n",
       "      <td>1</td>\n",
       "    </tr>\n",
       "    <tr>\n",
       "      <th>8</th>\n",
       "      <td>9</td>\n",
       "      <td>15792365</td>\n",
       "      <td>He</td>\n",
       "      <td>501</td>\n",
       "      <td>France</td>\n",
       "      <td>Male</td>\n",
       "      <td>44</td>\n",
       "      <td>4</td>\n",
       "      <td>142051.07</td>\n",
       "      <td>2</td>\n",
       "      <td>0</td>\n",
       "      <td>1</td>\n",
       "      <td>74940.50</td>\n",
       "      <td>0</td>\n",
       "    </tr>\n",
       "    <tr>\n",
       "      <th>9</th>\n",
       "      <td>10</td>\n",
       "      <td>15592389</td>\n",
       "      <td>H?</td>\n",
       "      <td>684</td>\n",
       "      <td>France</td>\n",
       "      <td>Male</td>\n",
       "      <td>27</td>\n",
       "      <td>2</td>\n",
       "      <td>134603.88</td>\n",
       "      <td>1</td>\n",
       "      <td>1</td>\n",
       "      <td>1</td>\n",
       "      <td>71725.73</td>\n",
       "      <td>0</td>\n",
       "    </tr>\n",
       "  </tbody>\n",
       "</table>\n",
       "</div>"
      ],
      "text/plain": [
       "   RowNumber  CustomerId   Surname  CreditScore Geography  Gender  Age  \\\n",
       "0          1    15634602  Hargrave          619    France  Female   42   \n",
       "1          2    15647311      Hill          608     Spain  Female   41   \n",
       "2          3    15619304      Onio          502    France  Female   42   \n",
       "3          4    15701354      Boni          699    France  Female   39   \n",
       "4          5    15737888  Mitchell          850     Spain  Female   43   \n",
       "5          6    15574012       Chu          645     Spain    Male   44   \n",
       "6          7    15592531  Bartlett          822    France    Male   50   \n",
       "7          8    15656148    Obinna          376   Germany  Female   29   \n",
       "8          9    15792365        He          501    France    Male   44   \n",
       "9         10    15592389        H?          684    France    Male   27   \n",
       "\n",
       "   Tenure    Balance  NumOfProducts  HasCrCard  IsActiveMember  \\\n",
       "0       2       0.00              1          1               1   \n",
       "1       1   83807.86              1          0               1   \n",
       "2       8  159660.80              3          1               0   \n",
       "3       1       0.00              2          0               0   \n",
       "4       2  125510.82              1          1               1   \n",
       "5       8  113755.78              2          1               0   \n",
       "6       7       0.00              2          1               1   \n",
       "7       4  115046.74              4          1               0   \n",
       "8       4  142051.07              2          0               1   \n",
       "9       2  134603.88              1          1               1   \n",
       "\n",
       "   EstimatedSalary  Exited  \n",
       "0        101348.88       1  \n",
       "1        112542.58       0  \n",
       "2        113931.57       1  \n",
       "3         93826.63       0  \n",
       "4         79084.10       0  \n",
       "5        149756.71       1  \n",
       "6         10062.80       0  \n",
       "7        119346.88       1  \n",
       "8         74940.50       0  \n",
       "9         71725.73       0  "
      ]
     },
     "execution_count": 1,
     "metadata": {},
     "output_type": "execute_result"
    }
   ],
   "source": [
    "import pandas as pd\n",
    "df = pd.read_csv(r\"C:\\Users\\USER\\Downloads\\Churn_Modelling.csv\")\n",
    "pd.options.display.max_rows= 10000\n",
    "df.head(10)\n",
    "#df"
   ]
  },
  {
   "cell_type": "code",
   "execution_count": 2,
   "id": "bb5f05cf-8fcd-4455-9120-e82c4a44ecf0",
   "metadata": {},
   "outputs": [
    {
     "name": "stdout",
     "output_type": "stream",
     "text": [
      "<class 'pandas.core.frame.DataFrame'>\n",
      "RangeIndex: 10000 entries, 0 to 9999\n",
      "Data columns (total 14 columns):\n",
      " #   Column           Non-Null Count  Dtype  \n",
      "---  ------           --------------  -----  \n",
      " 0   RowNumber        10000 non-null  int64  \n",
      " 1   CustomerId       10000 non-null  int64  \n",
      " 2   Surname          10000 non-null  object \n",
      " 3   CreditScore      10000 non-null  int64  \n",
      " 4   Geography        10000 non-null  object \n",
      " 5   Gender           10000 non-null  object \n",
      " 6   Age              10000 non-null  int64  \n",
      " 7   Tenure           10000 non-null  int64  \n",
      " 8   Balance          10000 non-null  float64\n",
      " 9   NumOfProducts    10000 non-null  int64  \n",
      " 10  HasCrCard        10000 non-null  int64  \n",
      " 11  IsActiveMember   10000 non-null  int64  \n",
      " 12  EstimatedSalary  10000 non-null  float64\n",
      " 13  Exited           10000 non-null  int64  \n",
      "dtypes: float64(2), int64(9), object(3)\n",
      "memory usage: 1.1+ MB\n"
     ]
    }
   ],
   "source": [
    "df.drop_duplicates(['Surname', 'CustomerId'])\n",
    "df.info()                  #This is to drop duplicate files by ID(if any). lucky for us there's none"
   ]
  },
  {
   "cell_type": "code",
   "execution_count": 3,
   "id": "d3b846a5-198c-4562-bb39-6fe71e19dc16",
   "metadata": {},
   "outputs": [],
   "source": [
    "df[\"Surname\"]=df[\"Surname\"].replace(\"[^a-zA-Z]\",\"\",regex=True)\n",
    "df[\"CustomerId\"]=df[\"CustomerId\"].replace(\"[^0-9]\",\"\",regex=True)   #cleaning all unwanted characters\n",
    "\n",
    "# print(gp)     \n"
   ]
  },
  {
   "cell_type": "code",
   "execution_count": null,
   "id": "35c42a65-7b6b-447d-bd13-c7624cb4ff0f",
   "metadata": {},
   "outputs": [],
   "source": []
  },
  {
   "cell_type": "raw",
   "id": "57be6298-3051-4092-b184-002ff8418601",
   "metadata": {},
   "source": [
    "    ACTIVE AND INACTIVE MEMBERS"
   ]
  },
  {
   "cell_type": "code",
   "execution_count": null,
   "id": "4d7ce3fe-b369-4ff0-a7d5-1ae16d43b30f",
   "metadata": {},
   "outputs": [],
   "source": []
  },
  {
   "cell_type": "code",
   "execution_count": 5,
   "id": "41a3f497-f640-4614-811d-087f3a47f5db",
   "metadata": {},
   "outputs": [
    {
     "name": "stdout",
     "output_type": "stream",
     "text": [
      "NONE ACTIVE MEMBERS\n"
     ]
    },
    {
     "data": {
      "text/plain": [
       "4849"
      ]
     },
     "execution_count": 5,
     "metadata": {},
     "output_type": "execute_result"
    }
   ],
   "source": [
    "grp1 = df['IsActiveMember'] == (1)    #here we loop through the list to find active\n",
    "grp0 = df['IsActiveMember'] == (0)    # and inactive members\n",
    "\n",
    "print(\"NONE ACTIVE MEMBERS\")\n",
    "# grp0.sum()\n",
    "# grp0\n",
    "grp0.sum()                #this is the sum of all inactive members"
   ]
  },
  {
   "cell_type": "code",
   "execution_count": 6,
   "id": "3467ef9f-5bae-418f-a51c-abc59169aadf",
   "metadata": {},
   "outputs": [
    {
     "name": "stdout",
     "output_type": "stream",
     "text": [
      "ACTIVE MEMBERS\n"
     ]
    },
    {
     "data": {
      "text/plain": [
       "5151"
      ]
     },
     "execution_count": 6,
     "metadata": {},
     "output_type": "execute_result"
    }
   ],
   "source": [
    "print(\"ACTIVE MEMBERS\")\n",
    "grp1.sum()                         #this is the sum of all active members\n",
    "           #clearly we see that the number of active members is just a lil greater than that of inactive members"
   ]
  },
  {
   "cell_type": "code",
   "execution_count": 7,
   "id": "7e89b06f-cd14-48bf-a44f-a499bcd70bf2",
   "metadata": {},
   "outputs": [
    {
     "data": {
      "text/plain": [
       "([<matplotlib.axis.XTick at 0x155eb671ed0>,\n",
       "  <matplotlib.axis.XTick at 0x155eb66ba10>],\n",
       " [Text(0, 0, 'Inactive 4849'), Text(1, 0, 'Active 5151')])"
      ]
     },
     "execution_count": 7,
     "metadata": {},
     "output_type": "execute_result"
    },
    {
     "data": {
      "image/png": "[encoded data removed]",
      "text/plain": [
       "<Figure size 640x480 with 1 Axes>"
      ]
     },
     "metadata": {},
     "output_type": "display_data"
    }
   ],
   "source": [
    "import matplotlib.pyplot as plt\n",
    "import numpy as np\n",
    "import seaborn as sns\n",
    "\n",
    "num_members = df['IsActiveMember'].value_counts()\n",
    "\n",
    "plt.bar(num_members.index, num_members.values, color=['green', 'red'])\n",
    "plt.ylabel('Count')\n",
    "plt.title('Count of Active and Inactive Members')\n",
    "plt.xticks([0, 1], ['Inactive 4849', 'Active 5151'])  #we vaisualize the number of active members to inactive members"
   ]
  },
  {
   "cell_type": "code",
   "execution_count": null,
   "id": "9f30e27b-4651-4ffa-a36d-0055056b85d8",
   "metadata": {},
   "outputs": [],
   "source": []
  },
  {
   "cell_type": "raw",
   "id": "aaf51136-193d-473a-abd7-08d073e51a09",
   "metadata": {},
   "source": [
    "          COUNTRIES AND THEIR RELATIONSHIP"
   ]
  },
  {
   "cell_type": "code",
   "execution_count": null,
   "id": "627ba9ab-cd5a-4910-8103-42d9d797c24a",
   "metadata": {},
   "outputs": [],
   "source": []
  },
  {
   "cell_type": "code",
   "execution_count": 8,
   "id": "c9cd1804-7e58-47fe-9e77-ab925f24ec24",
   "metadata": {},
   "outputs": [
    {
     "data": {
      "text/plain": [
       "count      10000\n",
       "unique         3\n",
       "top       France\n",
       "freq        5014\n",
       "Name: Geography, dtype: object"
      ]
     },
     "execution_count": 8,
     "metadata": {},
     "output_type": "execute_result"
    }
   ],
   "source": [
    "df['Geography'].describe()   #we find how many countries there are in the dataframe "
   ]
  },
  {
   "cell_type": "code",
   "execution_count": 13,
   "id": "e05913ab-1d44-4a00-b797-6c2eb1467317",
   "metadata": {},
   "outputs": [
    {
     "data": {
      "image/png": "[encoded data removed]",
      "text/plain": [
       "<Figure size 800x600 with 1 Axes>"
      ]
     },
     "metadata": {},
     "output_type": "display_data"
    }
   ],
   "source": [
    "# Count active and inactive members per country\n",
    "grouped_df = df.groupby(['Geography', 'IsActiveMember']).size().unstack(fill_value=0)\n",
    "\n",
    "# Rename columns for clarity\n",
    "grouped_df.columns = ['Inactive', 'Active']\n",
    "\n",
    "bar_width = 0.5\n",
    "bar_positions = np.arange(len(grouped_df))\n",
    "\n",
    "# Create the plot\n",
    "fig, ax = plt.subplots(figsize=(8, 6))\n",
    "\n",
    "# Plot stacked bars\n",
    "ax.bar(bar_positions, grouped_df['Inactive'], bar_width, label='Inactive', color='red')\n",
    "ax.bar(bar_positions, grouped_df['Active'], bar_width, bottom=grouped_df['Inactive'], label='Active', color='green')\n",
    "\n",
    "# Add labels and title         2509\n",
    "ax.set_xlabel('Country')\n",
    "ax.set_ylabel('Count')\n",
    "ax.set_title('Count of Active and Inactive Members by Country')\n",
    "ax.set_xticks(bar_positions)            #plt.xticks([0, 1], ['Inactive 4849', 'Active 5151'])\n",
    "ax.set_xticklabels(['France (5014)','Germany (2509)', 'Spain (2477)'])\n",
    "ax.legend()          #we plot a graph to display countries by active and inactive members\n",
    "                    #and clearly we can see that france has the highest population  (5014)\n",
    "# Show the plot     #From this graph we also realize that the ratio of active users to inactive users for each country doesn't varry much aprox.the same\n",
    "                    ###This is to say that comparison by active to inactive members is nearly the same amongst countries\n",
    "plt.show()          "
   ]
  },
  {
   "cell_type": "code",
   "execution_count": null,
   "id": "33827221-7ec6-4c90-9917-669de0190209",
   "metadata": {},
   "outputs": [],
   "source": []
  },
  {
   "cell_type": "code",
   "execution_count": 14,
   "id": "61d0375e-cb29-4f16-b5a7-8271da0c97c0",
   "metadata": {},
   "outputs": [
    {
     "data": {
      "text/plain": [
       "RowNumber                                                   25196496\n",
       "CustomerId                                               78672919670\n",
       "Surname            HargraveOnioBoniBartlettHeHBearceKayChinHaoMcD...\n",
       "CreditScore                                                  3257437\n",
       "Geography          FranceFranceFranceFranceFranceFranceFranceFran...\n",
       "Gender             FemaleFemaleFemaleMaleMaleMaleMaleFemaleFemale...\n",
       "Age                                                           193098\n",
       "Tenure                                                         25093\n",
       "Balance                                                 311332479.49\n",
       "NumOfProducts                                                   7676\n",
       "HasCrCard                                                       3543\n",
       "IsActiveMember                                                  2591\n",
       "EstimatedSalary                                          500894492.6\n",
       "Exited                                                           810\n",
       "dtype: object"
      ]
     },
     "execution_count": 14,
     "metadata": {},
     "output_type": "execute_result"
    }
   ],
   "source": [
    "frans_cus = df[df['Geography'] == 'France']\n",
    "                                              #so we go ahead to check how members are active from france  = 2591\n",
    "activ_frans = frans_cus.sum()\n",
    "\n",
    "frans = frans_cus[frans_cus['IsActiveMember']==0].count()  #here we also write a code to output inactive members from france = 2423\n",
    "\n",
    "activ_frans"
   ]
  },
  {
   "cell_type": "code",
   "execution_count": 15,
   "id": "9be209e4-1abc-4244-8845-d829884e79e1",
   "metadata": {},
   "outputs": [
    {
     "data": {
      "text/plain": [
       "RowNumber                                                   12545700\n",
       "CustomerId                                               39367604133\n",
       "Surname            ObinnaGoforthRomeoYoungMcWilliamsSandersonCame...\n",
       "CreditScore                                                  1634497\n",
       "Geography          GermanyGermanyGermanyGermanyGermanyGermanyGerm...\n",
       "Gender             FemaleMaleMaleMaleFemaleMaleMaleFemaleFemaleFe...\n",
       "Age                                                            99787\n",
       "Tenure                                                         12570\n",
       "Balance                                                 300402861.38\n",
       "NumOfProducts                                                   3813\n",
       "HasCrCard                                                       1791\n",
       "IsActiveMember                                                  1248\n",
       "EstimatedSalary                                         253693608.67\n",
       "Exited                                                           814\n",
       "dtype: object"
      ]
     },
     "execution_count": 15,
     "metadata": {},
     "output_type": "execute_result"
    }
   ],
   "source": [
    "germ_cus = df[df['Geography'] == 'Germany']                #we do the same for germany and their active members = 1248\n",
    "\n",
    "germ = germ_cus[germ_cus['IsActiveMember']==0].count()  #here we also write a code to output inactive members from france = 1261\n",
    "\n",
    "germ_cus.sum()"
   ]
  },
  {
   "cell_type": "code",
   "execution_count": 17,
   "id": "77c8cd76-29b7-4780-8d36-8f23fec699f5",
   "metadata": {},
   "outputs": [
    {
     "data": {
      "text/plain": [
       "RowNumber                                                   12262804\n",
       "CustomerId                                               38868881891\n",
       "Surname            HillMitchellChuAndrewsScottHendersonMuldrowDel...\n",
       "CreditScore                                                  1613354\n",
       "Geography          SpainSpainSpainSpainSpainSpainSpainSpainSpainS...\n",
       "Gender             FemaleFemaleMaleMaleFemaleFemaleMaleFemaleFema...\n",
       "Age                                                            96333\n",
       "Tenure                                                         12465\n",
       "Balance                                                 153123552.01\n",
       "NumOfProducts                                                   3813\n",
       "HasCrCard                                                       1721\n",
       "IsActiveMember                                                  1312\n",
       "EstimatedSalary                                         246314297.54\n",
       "Exited                                                           413\n",
       "dtype: object"
      ]
     },
     "execution_count": 17,
     "metadata": {},
     "output_type": "execute_result"
    }
   ],
   "source": [
    "spain_cus = df[df['Geography'] == 'Spain']  # and the same for Spain, their active members = 1312\n",
    "\n",
    "spain = spain_cus[spain_cus['IsActiveMember']==0].count()  #here we also write a code to output inactive members from france = 1165\n",
    "\n",
    "spain_cus.sum()"
   ]
  },
  {
   "cell_type": "code",
   "execution_count": 38,
   "id": "77ce0422-09b7-4452-9c2b-0db44b241006",
   "metadata": {},
   "outputs": [
    {
     "data": {
      "image/png": "[encoded data removed]",
      "text/plain": [
       "<Figure size 800x600 with 1 Axes>"
      ]
     },
     "metadata": {},
     "output_type": "display_data"
    }
   ],
   "source": [
    "active_members = df[df['IsActiveMember'] == 1]\n",
    "country_active_counts = active_members['Geography'].value_counts()\n",
    "\n",
    "\n",
    "country_active_counts.plot(kind='pie',  colors=['r','b','#080510'], figsize=(8, 6), explode = [0,0,0.06])\n",
    "plt.title('Distribution of Active Members by Country')\n",
    "plt.ylabel('')  \n",
    "\n",
    "\n",
    "plt.show()            #clearly we can see that spain has the least active members and this makes sense since they also the least by population"
   ]
  },
  {
   "cell_type": "code",
   "execution_count": null,
   "id": "cf210d43-a6e7-4ecb-99ee-2070398c3467",
   "metadata": {},
   "outputs": [],
   "source": []
  },
  {
   "cell_type": "raw",
   "id": "e5af2e54-7992-426c-9f2b-afbe29d826c2",
   "metadata": {},
   "source": [
    "                         SALARY COMPARISON"
   ]
  },
  {
   "cell_type": "code",
   "execution_count": null,
   "id": "1c169fd0-356f-46b9-95b0-c3390357c73a",
   "metadata": {},
   "outputs": [],
   "source": []
  },
  {
   "cell_type": "code",
   "execution_count": 19,
   "id": "6b1c747d-f6ab-40e3-8283-db456f786d87",
   "metadata": {},
   "outputs": [
    {
     "data": {
      "text/plain": [
       "100090.239881"
      ]
     },
     "execution_count": 19,
     "metadata": {},
     "output_type": "execute_result"
    }
   ],
   "source": [
    "mean_salary = df['EstimatedSalary'].mean()\n",
    "mean_salary"
   ]
  },
  {
   "cell_type": "code",
   "execution_count": 20,
   "id": "6b5d99e2-7b28-4d70-b8e9-fa727bf4ed7f",
   "metadata": {},
   "outputs": [
    {
     "data": {
      "text/plain": [
       "99899.18081372158"
      ]
     },
     "execution_count": 20,
     "metadata": {},
     "output_type": "execute_result"
    }
   ],
   "source": [
    "fra = df[df['Geography']=='France']     #we print the mean salary for those from france to compare with the total mean salary(100090)\n",
    "fra['EstimatedSalary'].mean()"
   ]
  },
  {
   "cell_type": "code",
   "execution_count": 21,
   "id": "20366ee3-cf26-4ff6-97a6-8013c1fbc13a",
   "metadata": {},
   "outputs": [
    {
     "data": {
      "text/plain": [
       "99440.57228098507"
      ]
     },
     "execution_count": 21,
     "metadata": {},
     "output_type": "execute_result"
    }
   ],
   "source": [
    "spa = df[df['Geography']=='Spain']\n",
    "spa['EstimatedSalary'].mean()"
   ]
  },
  {
   "cell_type": "code",
   "execution_count": 22,
   "id": "292fd168-87c4-4f10-b0cb-1dcfdbf69957",
   "metadata": {},
   "outputs": [
    {
     "data": {
      "text/plain": [
       "101113.43510163412"
      ]
     },
     "execution_count": 22,
     "metadata": {},
     "output_type": "execute_result"
    }
   ],
   "source": [
    "ger = df[df['Geography']=='Germany']      #haven printed mean salary for each country, we realized that the mean salary for Germans is a lil greater than\n",
    "ger['EstimatedSalary'].mean()             #the mean salary for the rest, even a lil greater than the average mean salary"
   ]
  },
  {
   "cell_type": "code",
   "execution_count": null,
   "id": "51704eee-c7e0-444a-97be-58c26aa4273e",
   "metadata": {},
   "outputs": [],
   "source": []
  },
  {
   "cell_type": "code",
   "execution_count": 23,
   "id": "69d6b6ad-55a2-426d-9c09-fcab5b0441b9",
   "metadata": {},
   "outputs": [
    {
     "data": {
      "text/plain": [
       "RowNumber                                                   25023039\n",
       "CustomerId                                               78341702949\n",
       "Surname            BoniMitchellBartlettHeHBearceAndrewsKayScottGo...\n",
       "CreditScore                                                  3250429\n",
       "Geography          FranceSpainFranceFranceFranceFranceSpainFrance...\n",
       "Gender             FemaleFemaleMaleMaleMaleMaleMaleFemaleFemaleMa...\n",
       "Age                                                           195098\n",
       "Tenure                                                         24945\n",
       "Balance                                                 378069292.04\n",
       "NumOfProducts                                                   7606\n",
       "HasCrCard                                                       3548\n",
       "IsActiveMember                                                  2586\n",
       "EstimatedSalary                                         251368045.26\n",
       "Exited                                                           995\n",
       "dtype: object"
      ]
     },
     "execution_count": 23,
     "metadata": {},
     "output_type": "execute_result"
    }
   ],
   "source": [
    "df[df['EstimatedSalary'] < mean_salary].sum()     #we hereby find the total number  of active staff whose salary is less than \n",
    "                                                 #the mean salary = 2586"
   ]
  },
  {
   "cell_type": "code",
   "execution_count": 24,
   "id": "cda8ed15-4c4e-4dc5-8815-d3750e02a61a",
   "metadata": {},
   "outputs": [
    {
     "data": {
      "text/plain": [
       "RowNumber                                                   24981961\n",
       "CustomerId                                               78567702745\n",
       "Surname            HargraveHillOnioChuObinnaChinMuldrowMcDonaldDe...\n",
       "CreditScore                                                  3254859\n",
       "Geography          FranceSpainFranceSpainGermanyFranceSpainFrance...\n",
       "Gender             FemaleFemaleFemaleMaleFemaleFemaleMaleMaleFema...\n",
       "Age                                                           194120\n",
       "Tenure                                                         25183\n",
       "Balance                                                 386789600.84\n",
       "NumOfProducts                                                   7696\n",
       "HasCrCard                                                       3507\n",
       "IsActiveMember                                                  2565\n",
       "EstimatedSalary                                         749534353.55\n",
       "Exited                                                          1042\n",
       "dtype: object"
      ]
     },
     "execution_count": 24,
     "metadata": {},
     "output_type": "execute_result"
    }
   ],
   "source": [
    "df[df['EstimatedSalary'] > mean_salary].sum()     #we also find the total number  of active staff whose salary is greater than \n",
    "                                                 #the mean salary = 2565\n",
    "#therefore total number of staff whose salary is greater than mean and those whose salary is less than mean = 5151(total number of ACTIVE STAFF)"
   ]
  },
  {
   "cell_type": "code",
   "execution_count": 26,
   "id": "21e2236b-5b15-4ff0-aced-f05ce8018778",
   "metadata": {},
   "outputs": [
    {
     "data": {
      "image/png": "[encoded data removed]",
      "text/plain": [
       "<Figure size 640x480 with 1 Axes>"
      ]
     },
     "metadata": {},
     "output_type": "display_data"
    }
   ],
   "source": [
    "mem_num = df[df['IsActiveMember'] == 1]\n",
    "activ_wit_gud_salary = len(mem_num[mem_num['EstimatedSalary'] > mean_salary])\n",
    "activ_wit_bad_salary = len(mem_num[mem_num['EstimatedSalary'] < mean_salary])\n",
    "categories = ['Good Salary(2565)', 'Bad Salary(2586)']\n",
    "counts = [activ_wit_gud_salary, activ_wit_bad_salary]\n",
    "\n",
    "plt.bar(categories, counts, color=['green', 'red'])\n",
    "plt.xlabel('Salary Category')\n",
    "plt.ylabel('Count')\n",
    "plt.title('Count of Active Members by Salary Category')\n",
    "plt.show()"
   ]
  },
  {
   "cell_type": "code",
   "execution_count": 50,
   "id": "09523ab7-e08d-48e0-abd4-30b8d14bb8b9",
   "metadata": {},
   "outputs": [
    {
     "data": {
      "text/plain": [
       "RowNumber          2407\n",
       "CustomerId         2407\n",
       "Surname            2407\n",
       "CreditScore        2407\n",
       "Geography          2407\n",
       "Gender             2407\n",
       "Age                2407\n",
       "Tenure             2407\n",
       "Balance            2407\n",
       "NumOfProducts      2407\n",
       "HasCrCard          2407\n",
       "IsActiveMember     2407\n",
       "EstimatedSalary    2407\n",
       "Exited             2407\n",
       "dtype: int64"
      ]
     },
     "execution_count": 50,
     "metadata": {},
     "output_type": "execute_result"
    }
   ],
   "source": [
    "inactiv = df[grp0]   #assigns inactive members to new dataframe\n",
    "inactiv[inactiv['EstimatedSalary'] < mean_salary].count()  #this prints the number of inactive members whose salary is less than mean_salary = 2407"
   ]
  },
  {
   "cell_type": "code",
   "execution_count": 51,
   "id": "7de8c11f-d2a8-48bd-9b42-f780d3cdad50",
   "metadata": {},
   "outputs": [
    {
     "data": {
      "text/plain": [
       "RowNumber          2442\n",
       "CustomerId         2442\n",
       "Surname            2442\n",
       "CreditScore        2442\n",
       "Geography          2442\n",
       "Gender             2442\n",
       "Age                2442\n",
       "Tenure             2442\n",
       "Balance            2442\n",
       "NumOfProducts      2442\n",
       "HasCrCard          2442\n",
       "IsActiveMember     2442\n",
       "EstimatedSalary    2442\n",
       "Exited             2442\n",
       "dtype: int64"
      ]
     },
     "execution_count": 51,
     "metadata": {},
     "output_type": "execute_result"
    }
   ],
   "source": [
    "inactiv[inactiv['EstimatedSalary'] > mean_salary].count()  #this prints the number of inactive members whose salary is greater than mean_salary = 2442\n",
    "#therefore the sum of staff for those whose salary is greater than mean salary and those whose salary is less than mean is = 4849(total number of inactive members)"
   ]
  },
  {
   "cell_type": "code",
   "execution_count": 27,
   "id": "059f6494-4be3-4a7a-b5b9-00753058acfe",
   "metadata": {},
   "outputs": [
    {
     "data": {
      "image/png": "[encoded data removed]",
      "text/plain": [
       "<Figure size 640x480 with 1 Axes>"
      ]
     },
     "metadata": {},
     "output_type": "display_data"
    }
   ],
   "source": [
    "# Filter inactive members\n",
    "num_members = df[df['IsActiveMember'] == 0] \n",
    "\n",
    "# Counts of inactive members with good and bad salaries\n",
    "inactiv_wit_gud_salary = len(num_members[num_members['EstimatedSalary'] > mean_salary])\n",
    "inactiv_wit_bad_salary = len(num_members[num_members['EstimatedSalary'] < mean_salary])\n",
    "\n",
    "# Prepare data for plotting\n",
    "categories = ['Good Salary (2442)', 'Bad Salary (2407)']\n",
    "counts = [inactiv_wit_gud_salary, inactiv_wit_bad_salary]\n",
    "\n",
    "# Plotting\n",
    "plt.bar(categories, counts, color=['green', 'red'])\n",
    "plt.xlabel('Salary Category')\n",
    "plt.ylabel('Count')\n",
    "plt.title('Count of Inactive Members by Salary Category')\n",
    "plt.show()"
   ]
  },
  {
   "cell_type": "code",
   "execution_count": 30,
   "id": "abf8923a-1f18-48c6-9e9a-366b2a16d37c",
   "metadata": {},
   "outputs": [
    {
     "data": {
      "image/png": "[encoded data removed]",
      "text/plain": [
       "<Figure size 640x480 with 2 Axes>"
      ]
     },
     "metadata": {},
     "output_type": "display_data"
    }
   ],
   "source": [
    "num_members = df[df['IsActiveMember'] == 0]          # Filter inactive member\n",
    "\n",
    "inactiv_wit_gud_salary = len(num_members[num_members['EstimatedSalary'] > mean_salary])  # Counts of inactive members with good \n",
    "inactiv_wit_bad_salary = len(num_members[num_members['EstimatedSalary'] < mean_salary])  #and bad salaries\n",
    "\n",
    "\n",
    "categories = ['Good Salary (2442)', 'Bad Salary (2407)']    # Preparing data for plotting\n",
    "counts = [inactiv_wit_gud_salary, inactiv_wit_bad_salary]\n",
    "\n",
    "###### plotting\n",
    "categories = [f'Good Salary\\n(2565)', f'Bad Salary\\n (2586)']\n",
    "counts = [activ_wit_gud_salary, activ_wit_bad_salary]\n",
    "\n",
    "plt.subplot(1,2,1)\n",
    "plt.bar(categories, counts, color=['green', 'red'])\n",
    "# plt.xlabel('Salary Category')\n",
    "plt.title('For Active members')\n",
    "plt.ylabel('Count')\n",
    "\n",
    "###### Plotting\n",
    "categories = [f'Good Salary\\n (2442)', f'Bad Salary\\n (2407)']\n",
    "counts = [inactiv_wit_gud_salary, inactiv_wit_bad_salary]\n",
    "\n",
    "plt.subplot(1,2,2)\n",
    "plt.bar(categories, counts, color=['green', 'red'])\n",
    "# plt.xlabel('Salary Category')\n",
    "# plt.ylabel('Count')\n",
    "plt.title('Inactive members')\n",
    "plt.suptitle(\"Comparison of salary of Active Members to Inactive Members by Salary Category\")\n",
    "                #from this chart we have realized that it was more of people who were under paid that stayed than those who were over paid \n",
    "plt.show()\n"
   ]
  },
  {
   "cell_type": "code",
   "execution_count": null,
   "id": "f45d8ddd-39f3-488a-bcca-e637c7db6c33",
   "metadata": {},
   "outputs": [],
   "source": []
  },
  {
   "cell_type": "raw",
   "id": "b9a47263-210e-417a-9e80-09138e4592c6",
   "metadata": {},
   "source": [
    "           EVIDENCE OF IRREGULARITIES IN SALARY PAYMENT"
   ]
  },
  {
   "cell_type": "code",
   "execution_count": null,
   "id": "b023da01-7584-42db-9392-53b9a9960e9e",
   "metadata": {},
   "outputs": [],
   "source": []
  },
  {
   "cell_type": "code",
   "execution_count": 55,
   "id": "a8a4f35e-bd4d-4217-8e65-596c96d52b45",
   "metadata": {},
   "outputs": [
    {
     "data": {
      "text/html": [
       "<div>\n",
       "<style scoped>\n",
       "    .dataframe tbody tr th:only-of-type {\n",
       "        vertical-align: middle;\n",
       "    }\n",
       "\n",
       "    .dataframe tbody tr th {\n",
       "        vertical-align: top;\n",
       "    }\n",
       "\n",
       "    .dataframe thead th {\n",
       "        text-align: right;\n",
       "    }\n",
       "</style>\n",
       "<table border=\"1\" class=\"dataframe\">\n",
       "  <thead>\n",
       "    <tr style=\"text-align: right;\">\n",
       "      <th></th>\n",
       "      <th>RowNumber</th>\n",
       "      <th>CustomerId</th>\n",
       "      <th>Surname</th>\n",
       "      <th>CreditScore</th>\n",
       "      <th>Geography</th>\n",
       "      <th>Gender</th>\n",
       "      <th>Age</th>\n",
       "      <th>Tenure</th>\n",
       "      <th>Balance</th>\n",
       "      <th>NumOfProducts</th>\n",
       "      <th>HasCrCard</th>\n",
       "      <th>IsActiveMember</th>\n",
       "      <th>EstimatedSalary</th>\n",
       "      <th>Exited</th>\n",
       "    </tr>\n",
       "  </thead>\n",
       "  <tbody>\n",
       "    <tr>\n",
       "      <th>0</th>\n",
       "      <td>1</td>\n",
       "      <td>15634602</td>\n",
       "      <td>Hargrave</td>\n",
       "      <td>619</td>\n",
       "      <td>France</td>\n",
       "      <td>Female</td>\n",
       "      <td>42</td>\n",
       "      <td>2</td>\n",
       "      <td>0.00</td>\n",
       "      <td>1</td>\n",
       "      <td>1</td>\n",
       "      <td>1</td>\n",
       "      <td>101348.88</td>\n",
       "      <td>1</td>\n",
       "    </tr>\n",
       "    <tr>\n",
       "      <th>1</th>\n",
       "      <td>2</td>\n",
       "      <td>15647311</td>\n",
       "      <td>Hill</td>\n",
       "      <td>608</td>\n",
       "      <td>Spain</td>\n",
       "      <td>Female</td>\n",
       "      <td>41</td>\n",
       "      <td>1</td>\n",
       "      <td>83807.86</td>\n",
       "      <td>1</td>\n",
       "      <td>0</td>\n",
       "      <td>1</td>\n",
       "      <td>112542.58</td>\n",
       "      <td>0</td>\n",
       "    </tr>\n",
       "    <tr>\n",
       "      <th>2</th>\n",
       "      <td>3</td>\n",
       "      <td>15619304</td>\n",
       "      <td>Onio</td>\n",
       "      <td>502</td>\n",
       "      <td>France</td>\n",
       "      <td>Female</td>\n",
       "      <td>42</td>\n",
       "      <td>8</td>\n",
       "      <td>159660.80</td>\n",
       "      <td>3</td>\n",
       "      <td>1</td>\n",
       "      <td>0</td>\n",
       "      <td>113931.57</td>\n",
       "      <td>1</td>\n",
       "    </tr>\n",
       "    <tr>\n",
       "      <th>3</th>\n",
       "      <td>4</td>\n",
       "      <td>15701354</td>\n",
       "      <td>Boni</td>\n",
       "      <td>699</td>\n",
       "      <td>France</td>\n",
       "      <td>Female</td>\n",
       "      <td>39</td>\n",
       "      <td>1</td>\n",
       "      <td>0.00</td>\n",
       "      <td>2</td>\n",
       "      <td>0</td>\n",
       "      <td>0</td>\n",
       "      <td>93826.63</td>\n",
       "      <td>0</td>\n",
       "    </tr>\n",
       "    <tr>\n",
       "      <th>4</th>\n",
       "      <td>5</td>\n",
       "      <td>15737888</td>\n",
       "      <td>Mitchell</td>\n",
       "      <td>850</td>\n",
       "      <td>Spain</td>\n",
       "      <td>Female</td>\n",
       "      <td>43</td>\n",
       "      <td>2</td>\n",
       "      <td>125510.82</td>\n",
       "      <td>1</td>\n",
       "      <td>1</td>\n",
       "      <td>1</td>\n",
       "      <td>79084.10</td>\n",
       "      <td>0</td>\n",
       "    </tr>\n",
       "  </tbody>\n",
       "</table>\n",
       "</div>"
      ],
      "text/plain": [
       "   RowNumber  CustomerId   Surname  CreditScore Geography  Gender  Age  \\\n",
       "0          1    15634602  Hargrave          619    France  Female   42   \n",
       "1          2    15647311      Hill          608     Spain  Female   41   \n",
       "2          3    15619304      Onio          502    France  Female   42   \n",
       "3          4    15701354      Boni          699    France  Female   39   \n",
       "4          5    15737888  Mitchell          850     Spain  Female   43   \n",
       "\n",
       "   Tenure    Balance  NumOfProducts  HasCrCard  IsActiveMember  \\\n",
       "0       2       0.00              1          1               1   \n",
       "1       1   83807.86              1          0               1   \n",
       "2       8  159660.80              3          1               0   \n",
       "3       1       0.00              2          0               0   \n",
       "4       2  125510.82              1          1               1   \n",
       "\n",
       "   EstimatedSalary  Exited  \n",
       "0        101348.88       1  \n",
       "1        112542.58       0  \n",
       "2        113931.57       1  \n",
       "3         93826.63       0  \n",
       "4         79084.10       0  "
      ]
     },
     "execution_count": 55,
     "metadata": {},
     "output_type": "execute_result"
    }
   ],
   "source": [
    "df.head(5)"
   ]
  },
  {
   "cell_type": "raw",
   "id": "0f30e6ba-8d82-41bc-9e9b-cecc4300b79b",
   "metadata": {},
   "source": [
    "                                            *********CONCLUSION*********\n",
    "\n",
    "* Total number of active to inactive customers doesn't varry a lot, even though the active ones are more, the difference is just 302 and that\n",
    "is very bad bad for a company with 10000 customers\n",
    "\n",
    "* The customers of the company are from 3 countries(France,Germany and Spain). The relationship between the number of active to inactive members for each country is nearly identical. \n",
    "           However, the relationship in their salary payment with regards to the mean salary is a little imbalance as the German workers earned\n",
    "   salaries a little above the mean salary, while workers from France and Spain earned a little less than the mean.\n",
    "* When we compared the active to inactive members with regards to their salary(whether well paid or under_paid) we realized that the  number of\n",
    "  active member with good salary is a little less than active members with bad salary, while inactive members with good salary is greater than \n",
    "  inactive members with good salary.\n",
    "* We also checked how the 'CreditScore, Tenure, and NumOfProducts' affected the salary of the customers and the result was irrational as there was no real relationship between these factors and the salary earned.\n",
    "\n",
    "       Therefore the major possible issue that influenced worker's inactiveness in the company is no mapped out standard for payment of salary."
   ]
  },
  {
   "cell_type": "code",
   "execution_count": null,
   "id": "fad74ed6-aced-4eb3-80f8-51b4c2065103",
   "metadata": {},
   "outputs": [],
   "source": []
  },
  {
   "cell_type": "code",
   "execution_count": null,
   "id": "653a671f-0f1e-423e-bdd4-16eff52d6952",
   "metadata": {},
   "outputs": [],
   "source": []
  }
 ],
 "metadata": {
  "kernelspec": {
   "display_name": "Python 3 (ipykernel)",
   "language": "python",
   "name": "python3"
  },
  "language_info": {
   "codemirror_mode": {
    "name": "ipython",
    "version": 3
   },
   "file_extension": ".py",
   "mimetype": "text/x-python",
   "name": "python",
   "nbconvert_exporter": "python",
   "pygments_lexer": "ipython3",
   "version": "3.11.7"
  }
 },
 "nbformat": 4,
 "nbformat_minor": 5
}
